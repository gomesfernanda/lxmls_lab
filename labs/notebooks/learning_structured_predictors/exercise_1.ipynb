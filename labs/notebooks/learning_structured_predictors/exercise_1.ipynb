{
 "cells": [
  {
   "cell_type": "markdown",
   "metadata": {},
   "source": [
    "### Understand the CRF code and the feature_mapper code."
   ]
  },
  {
   "cell_type": "code",
   "execution_count": 1,
   "metadata": {},
   "outputs": [],
   "source": [
    "%matplotlib inline\n",
    "%load_ext autoreload\n",
    "%autoreload 2"
   ]
  },
  {
   "cell_type": "code",
   "execution_count": 2,
   "metadata": {},
   "outputs": [],
   "source": [
    "from lxmls import DATA_PATH\n",
    "import lxmls\n",
    "import lxmls.sequences.crf_online as crfo\n",
    "import lxmls.readers.pos_corpus as pcc\n",
    "import lxmls.sequences.id_feature as idfc\n",
    "import lxmls.sequences.extended_feature as exfc\n",
    "from lxmls.readers import pos_corpus"
   ]
  },
  {
   "cell_type": "markdown",
   "metadata": {},
   "source": [
    "Load data from the conll task"
   ]
  },
  {
   "cell_type": "code",
   "execution_count": 3,
   "metadata": {},
   "outputs": [],
   "source": [
    "corpus = lxmls.readers.pos_corpus.PostagCorpus()\n",
    "\n",
    "train_seq = corpus.read_sequence_list_conll(DATA_PATH + \"/train-02-21.conll\", \n",
    "                                            max_sent_len=10, max_nr_sent=1000)\n",
    "\n",
    "test_seq = corpus.read_sequence_list_conll(DATA_PATH + \"/test-23.conll\", \n",
    "                                           max_sent_len=10, max_nr_sent=1000)\n",
    "\n",
    "dev_seq = corpus.read_sequence_list_conll(DATA_PATH + \"/dev-22.conll\", \n",
    "                                          max_sent_len=10, max_nr_sent=1000)"
   ]
  },
  {
   "cell_type": "code",
   "execution_count": 4,
   "metadata": {},
   "outputs": [
    {
     "name": "stdout",
     "output_type": "stream",
     "text": [
      "There are 1000 examples in train_seq\n",
      "First example: Ms./noun Haag/noun plays/verb Elianti/noun ./. \n"
     ]
    }
   ],
   "source": [
    "print(\"There are\", len(train_seq), \"examples in train_seq\")\n",
    "print(\"First example:\", train_seq[0])"
   ]
  },
  {
   "cell_type": "markdown",
   "metadata": {},
   "source": [
    "### Feature generation\n",
    "\n",
    "Given a dataset, in order to build the features\n",
    "\n",
    "- An instance from **`lxmls.sequences.id_feature.IDFeatures(train_data)`** must be instanciated. We will call `feature_mapper` this instanciated object.\n",
    "- Then **`feature_mapper.build_features()`** must be executed\n"
   ]
  },
  {
   "cell_type": "code",
   "execution_count": 6,
   "metadata": {},
   "outputs": [],
   "source": [
    "## Building features\n",
    "feature_mapper = idfc.IDFeatures(train_seq)\n",
    "feature_mapper.build_features()"
   ]
  },
  {
   "cell_type": "markdown",
   "metadata": {},
   "source": [
    "\n",
    "\n",
    "#### About feature_mappers\n",
    "A ```feature_mapper``` will contain the following attributes:\n",
    "\n",
    "- the dataset in ```.dataset```\n",
    "    - if we instantiate the feature mapper with a dataset X then ```feature_mapper.dataset```will be a copy of X\n",
    "\n",
    "\n",
    "- a dictionary of features in ```.feature_dict```\n",
    "    - this dictionary will default to ```{}```. \n",
    "    - In order to build the features the feature mapper must call ```.build_features()``` function.\n",
    "    \n",
    "    \n",
    "- a list of features in ```.feature_list```\n",
    "    - this list will default to ```[]```. \n",
    "    - In order to build the list of features the feature mapper must call ```.build_features()``` function.\n",
    "\n",
    "A ```feature_mapper``` will contain the method \n",
    "\n",
    "- A method to generate features, ```.build_features```\n",
    "    - this method will create features using the ```.dataset``.\n",
    "    - This method will also fill ```.feature_dict``` and ```.feature_list``\n",
    "\n",
    "\n"
   ]
  },
  {
   "cell_type": "code",
   "execution_count": 11,
   "metadata": {
    "scrolled": true
   },
   "outputs": [
    {
     "name": "stdout",
     "output_type": "stream",
     "text": [
      "{'init_tag:noun': 0, 'id:Ms.::noun': 1, 'id:Haag::noun': 2, 'prev_tag:noun::noun': 3, 'id:plays::verb': 4, 'prev_tag:noun::verb': 5, 'id:Elianti::noun': 6, 'prev_tag:verb::noun': 7, 'id:.::.': 8, 'prev_tag:noun::.': 9, 'final_prev_tag:.': 10, 'init_tag:det': 11, 'id:The::det': 12, 'id:new::adj': 13, 'prev_tag:det::adj': 14, 'id:rate::noun': 15, 'prev_tag:adj::noun': 16, 'id:will::verb': 17, 'id:be::verb': 18, 'prev_tag:verb::verb': 19, 'id:payable::adj': 20, 'prev_tag:verb::adj': 21, 'id:Feb.::noun': 22, 'id:15::num': 23, 'prev_tag:noun::num': 24, 'prev_tag:num::.': 25, 'id:A::det': 26, 'id:record::noun': 27, 'prev_tag:det::noun': 28, 'id:date::noun': 29, 'id:has::verb': 30, \"id:n't::adv\": 31, 'prev_tag:verb::adv': 32, 'id:been::verb': 33, 'prev_tag:adv::verb': 34, 'id:set::verb': 35, 'prev_tag:verb::.': 36, 'init_tag:adv': 37, 'id:Not::adv': 38, 'id:all::det': 39, 'prev_tag:adv::det': 40, 'id:those::det': 41, 'prev_tag:det::det': 42, 'id:who::pron': 43, 'prev_tag:det::pron': 44, 'id:wrote::verb': 45, 'prev_tag:pron::verb': 46, 'id:oppose::verb': 47, 'id:the::det': 48, 'prev_tag:verb::det': 49, 'id:changes::noun': 50, 'id:Bach::noun': 51, \"id:'s::prt\": 52, 'prev_tag:noun::prt': 53, 'id:``::.': 54, 'prev_tag:prt::.': 55, 'id:Air::noun': 56, 'prev_tag:.::noun': 57, \"id:''::.\": 58, 'id:followed::verb': 59, 'prev_tag:.::verb': 60, 'init_tag:conj': 61, 'id:Or::conj': 62, 'id:was::verb': 63, 'prev_tag:conj::verb': 64, 'id:it::pron': 65, 'prev_tag:verb::pron': 66, 'id:because::adp': 67, 'prev_tag:pron::adp': 68, 'prev_tag:adp::noun': 69, 'id:Collins::noun': 70, 'id:had::verb': 71, 'id:gone::verb': 72, 'id:?::.': 73, 'init_tag:verb': 74, 'id:Is::verb': 75, 'id:this::det': 76, 'id:future::noun': 77, 'id:of::adp': 78, 'prev_tag:noun::adp': 79, 'id:chamber::noun': 80, 'id:music::noun': 81, 'init_tag:pron': 82, 'id:What::pron': 83, \"id:'s::verb\": 84, 'id:next::adj': 85, 'prev_tag:adj::.': 86, 'id:Slides::noun': 87, 'id:to::prt': 88, 'id:illustrate::verb': 89, 'prev_tag:prt::verb': 90, 'id:Shostakovich::noun': 91, 'id:quartets::noun': 92, 'id:And::conj': 93, 'id:their::pron': 94, 'prev_tag:conj::pron': 95, 'id:suspicions::noun': 96, 'prev_tag:pron::noun': 97, 'id:each::det': 98, 'prev_tag:adp::det': 99, 'id:other::adj': 100, 'id:run::verb': 101, 'prev_tag:adj::verb': 102, 'id:deep::adv': 103, 'prev_tag:adv::.': 104, 'init_tag:.': 105, 'id:Old-time::adj': 106, 'prev_tag:.::adj': 107, 'id:kiddies::noun': 108, 'id:,::.': 109, 'prev_tag:.::.': 110, 'id:he::pron': 111, 'prev_tag:.::pron': 112, 'id:says::verb': 113, 'id:Perhaps::adv': 114, 'id:not::adv': 115, 'prev_tag:conj::adv': 116, 'id:just::adv': 117, 'prev_tag:adv::adv': 118, 'id:for::adp': 119, 'prev_tag:adv::adp': 120, 'id:players::noun': 121, 'id:My::pron': 122, 'id:fastball::noun': 123, 'id:is::verb': 124, 'id:good::adj': 125, 'id:I::pron': 126, 'id:tried::verb': 127, 'id:But::conj': 128, 'prev_tag:conj::det': 129, 'id:ballplayers::noun': 130, 'id:disagree::verb': 131, 'init_tag:adj': 132, 'id:Most::adj': 133, 'id:are::verb': 134, 'id:trim::adj': 135, 'id:there::det': 136, 'prev_tag:det::verb': 137, 'id:pride::noun': 138, 'id:So::adv': 139, 'prev_tag:adv::pron': 140, 'id:adjusts::verb': 141, 'id:He::pron': 142, 'id:no::adv': 143, 'prev_tag:pron::adv': 144, 'id:longer::adv': 145, 'id:crowds::verb': 146, 'id:plate::noun': 147, 'id:expect::verb': 148, 'id:slower::adj': 149, 'id:fastballs::noun': 150, 'id:Its::pron': 151, 'id:maximum::adj': 152, 'prev_tag:pron::adj': 153, 'id:velocity::noun': 154, 'id:72::num': 155, 'prev_tag:verb::num': 156, 'id:mph::noun': 157, 'prev_tag:num::noun': 158, 'id:worried::adj': 159, 'prev_tag:adv::adj': 160, 'id:control::noun': 161, 'id:Terms::noun': 162, 'id:were::verb': 163, 'id:disclosed::verb': 164, 'id:Tuesday::noun': 165, 'id:October::noun': 166, 'id:31::num': 167, 'id:1989::num': 168, 'prev_tag:.::num': 169, 'final_prev_tag:num': 170, 'id:PRIME::adj': 171, 'id:RATE::noun': 172, 'id::::.': 173, 'id:10::num': 174, 'id:1\\\\/2::num': 175, 'prev_tag:num::num': 176, 'id:%::noun': 177, 'id:DISCOUNT::noun': 178, 'id:7::num': 179, 'id:minimum::adj': 180, 'id:unit::noun': 181, 'id:$::.': 182, 'id:100,000::num': 183, 'id:Source::noun': 184, 'id:Telerate::noun': 185, 'id:Systems::noun': 186, 'id:Inc::noun': 187, 'id:MERRILL::noun': 188, 'id:LYNCH::noun': 189, 'id:READY::noun': 190, 'id:ASSETS::noun': 191, 'id:TRUST::noun': 192, 'id:8.63::num': 193, 'id:Output::noun': 194, 'id:goods-producing::adj': 195, 'prev_tag:adp::adj': 196, 'id:industries::noun': 197, 'id:increased::verb': 198, 'id:0.1::num': 199, 'id:venture::noun': 200, 'id:based::verb': 201, 'id:in::adp': 202, 'prev_tag:verb::adp': 203, 'id:Indianapolis::noun': 204, 'id:Mr.::noun': 205, 'id:Tomash::noun': 206, 'id:remain::verb': 207, 'id:as::adp': 208, 'id:a::det': 209, 'id:director::noun': 210, 'id:emeritus::noun': 211, 'id:Rubendall::noun': 212, 'id:could::verb': 213, 'id:reached::verb': 214, 'id:index::noun': 215, 'id:fell::verb': 216, 'id:109.85::num': 217, 'id:Monday::noun': 218, 'id:Institutional::adj': 219, 'id:investors::noun': 220, 'id:mostly::adv': 221, 'prev_tag:noun::adv': 222, 'id:remained::verb': 223, 'id:on::adp': 224, 'id:sidelines::noun': 225, 'id:Sumitomo::noun': 226, 'id:Realty::noun': 227, 'id:&::conj': 228, 'prev_tag:noun::conj': 229, 'id:Development::noun': 230, 'prev_tag:conj::noun': 231, 'id:rose::verb': 232, 'id:40::num': 233, 'prev_tag:num::prt': 234, 'id:2170::num': 235, 'prev_tag:prt::num': 236, 'id:Heiwa::noun': 237, 'id:Real::noun': 238, 'id:Estate::noun': 239, 'id:gained::verb': 240, 'id:2210::num': 241, 'id:Investor::noun': 242, 'id:focus::noun': 243, 'id:shifted::verb': 244, 'id:quickly::adv': 245, 'id:traders::noun': 246, 'id:said::verb': 247, 'id:No::det': 248, 'id:one::noun': 249, 'id:wants::verb': 250, 'id:stock::noun': 251, 'prev_tag:adp::pron': 252, 'id:books::noun': 253, 'id:Taipei::noun': 254, 'id:closed::verb': 255, 'id:holiday::noun': 256, 'id:percentage::noun': 257, 'id:change::noun': 258, 'id:since::adp': 259, 'id:year-end::noun': 260, 'id:1980::num': 261, 'prev_tag:adp::num': 262, 'id:equaling::verb': 263, 'prev_tag:num::verb': 264, 'id:100::num': 265, 'init_tag:adp': 266, 'id:For::adp': 267, 'id:longer-term::adj': 268, 'id:CDs::noun': 269, 'id:yields::noun': 270, 'id:up::prt': 271, 'prev_tag:verb::prt': 272, 'id:In::adp': 273, 'id:France::noun': 274, 'id:!::.': 275, 'id:(::.': 276, 'id:still::adv': 277, 'id:say::verb': 278, 'id:do::verb': 279, 'id:look::verb': 280, 'id:down::adv': 281, 'id:At::adp': 282, 'id:least::adj': 283, 'prev_tag:adj::adv': 284, 'id:when::adv': 285, 'id:you::pron': 286, 'id:ascending::verb': 287, 'id:)::.': 288, \"id:'m::verb\": 289, 'id:talking::verb': 290, 'id:about::adp': 291, 'id:landing::noun': 292, 'id:canal::noun': 293, 'id:porous::adj': 294, 'id:wicker::noun': 295, 'id:basket::noun': 296, 'id:With::adp': 297, 'id:pilot::noun': 298, 'prev_tag:noun::pron': 299, 'id:speaks::verb': 300, 'id:no::det': 301, 'id:English::noun': 302, 'id:wonder::noun': 303, 'id:We::pron': 304, 'id:coming::verb': 305, 'id:straight::adv': 306, 'id:into::adp': 307, 'id:neither::adv': 308, 'id:can::verb': 309, 'id:your::pron': 310, 'id:Which::det': 311, 'id:makes::verb': 312, 'id:chase::noun': 313, 'id:car::noun': 314, 'id:necessary::adj': 315, 'prev_tag:noun::adj': 316, 'id:looked::verb': 317, 'id:at::adp': 318, 'id:my::pron': 319, 'id:watch::noun': 320, 'id:Barely::adv': 321, 'id:half-an-hour::noun': 322, 'prev_tag:adv::noun': 323, 'id:aloft::adv': 324, 'id:de::noun': 325, 'id:Vries::noun': 326, 'id:free-lance::adj': 327, 'id:writer::noun': 328, 'id:Fed::noun': 329, 'id:spokesman::noun': 330, 'id:denied::verb': 331, 'id:LaFalce::noun': 332, 'id:statement::noun': 333, 'prev_tag:prt::noun': 334, 'id:board::noun': 335, 'id:by::adp': 336, 'id:one::num': 337, 'id:26::num': 338, 'id:members::noun': 339, 'id:issue::noun': 340, 'id:stickier::adj': 341, 'id:than::adp': 342, 'prev_tag:adj::adp': 343, 'id:seems::verb': 344, 'id:Defining::verb': 345, 'id:combat::noun': 346, 'id:aircraft::noun': 347, 'id:even::adv': 348, 'id:tougher::adj': 349, 'id:Accounting::noun': 350, 'id:problems::noun': 351, 'id:raise::verb': 352, 'id:more::adj': 353, 'id:knotty::adj': 354, 'prev_tag:adj::adj': 355, 'id:issues::noun': 356, 'id:Saul::noun': 357, 'id:Resnick::noun': 358, 'final_prev_tag:noun': 359, 'id:Vice::noun': 360, 'id:President::noun': 361, 'id:Public::noun': 362, 'id:Affairs::noun': 363, 'id:Senate::noun': 364, 'id:probably::adv': 365, 'id:vote::verb': 366, 'id:long::adv': 367, 'id:afterward::adv': 368, 'id:Gerald::noun': 369, 'id:F.::noun': 370, 'id:Seib::noun': 371, 'id:contributed::verb': 372, 'prev_tag:prt::det': 373, 'id:article::noun': 374, 'id:company::noun': 375, 'id:manufacturing::verb': 376, 'id:carpet::noun': 377, 'id:1967::num': 378, 'id:price::noun': 379, 'id:This::det': 380, 'id:measure::noun': 381, 'id:dropped::verb': 382, 'id:sharply::adv': 383, 'id:August::noun': 384, 'id:remainder::noun': 385, 'id:downturn::noun': 386, 'id:begin::verb': 387, 'id:sometime::adv': 388, 'final_prev_tag:adp': 389, 'id:Pilgrim::noun': 390, 'id:closed::adj': 391, 'id:32::num': 392, 'id:months::noun': 393, 'id:Bids::noun': 394, 'id:totaling::verb': 395, 'id:515::num': 396, 'id:million::num': 397, 'id:submitted::verb': 398, 'id:475::num': 399, 'id:It::pron': 400, 'id:also::adv': 401, 'id:unnecessary::adj': 402, 'id:They::pron': 403, 'id:promised::verb': 404, 'id:yet::adv': 405, 'id:really::adv': 406, 'prev_tag:adp::adv': 407, 'id:stuff::noun': 408, 'id:Finding::verb': 409, 'id:him::pron': 410, 'id:became::verb': 411, 'id:an::det': 412, 'id:obsession::noun': 413, 'id:Stoll::noun': 414, 'id:Some::det': 415, 'id:nights::noun': 416, 'id:slept::verb': 417, 'id:under::adp': 418, 'id:his::pron': 419, 'id:desk::noun': 420, 'id:His::pron': 421, 'id:boss::noun': 422, 'id:complained::verb': 423, 'id:neglect::noun': 424, 'id:chores::noun': 425, 'id:Finally::adv': 426, 'id:got::verb': 427, 'id:help::noun': 428, 'id:Tymnet::noun': 429, 'id:major::adj': 430, 'id:network::noun': 431, 'id:linking::verb': 432, 'id:computers::noun': 433, 'id:angry::adj': 434, 'id:return::noun': 435, 'id:Melloan::noun': 436, 'id:deputy::adj': 437, 'id:editor::noun': 438, 'id:Journal::noun': 439, 'id:UNIFIRST::noun': 440, 'id:Corp.::noun': 441, 'id:declared::verb': 442, 'id:2-for-1::adj': 443, 'id:split::noun': 444, 'id:dividend::noun': 445, 'id:five::num': 446, 'id:cents::noun': 447, 'prev_tag:noun::det': 448, 'id:share::noun': 449, 'id:Reserve::noun': 450, 'id:Fund::noun': 451, 'prev_tag:det::adp': 452, 'id:allegations::noun': 453, 'id:simply::adv': 454, 'id:bizarre::adj': 455, 'id:sharp::adj': 456, 'id:tack::noun': 457, 'id:Nobody::noun': 458, 'id:guts::noun': 459, 'id:complain::verb': 460, 'id:Certainly::adv': 461, 'id:lawyers::noun': 462, 'id:inquiry::noun': 463, 'id:soon::adv': 464, 'id:focused::verb': 465, 'id:judge::noun': 466, 'id:Later::adv': 467, 'prev_tag:.::det': 468, 'id:went::verb': 469, 'id:step::noun': 470, 'id:farther::adv': 471, 'id:again::adv': 472, 'id:bank::noun': 473, 'id:acquiesced::verb': 474, 'id:should::verb': 475, 'id:scream::noun': 476, 'id:William::noun': 477, 'id:S.::noun': 478, 'id:Smith::noun': 479, 'id:Virginia::noun': 480, 'id:M.W.::noun': 481, 'id:Gardiner::noun': 482, 'id:Continental::noun': 483, 'id:Cablevision::noun': 484, 'id:Inc.::noun': 485, 'id:--::.': 486, 'id:Beatrice::noun': 487, 'id:Co.::noun': 488, 'id:coupon::noun': 489, 'id:13::num': 490, 'id:3\\\\/4::num': 491, 'id:New::noun': 492, 'id:Jersey::noun': 493, 'id:Wastewater::noun': 494, 'id:Treatment::noun': 495, 'id:Trust::noun': 496, 'id:Matagorda::noun': 497, 'id:County::noun': 498, 'id:Navigation::noun': 499, 'id:District::noun': 500, 'id:No.::noun': 501, 'id:1::num': 502, 'id:Texas::noun': 503, 'id:Federal::noun': 504, 'id:Home::noun': 505, 'id:Loan::noun': 506, 'id:Mortgage::noun': 507, 'id:Complete::adj': 508, 'id:details::noun': 509, 'id:immediately::adv': 510, 'id:available::adj': 511, 'id:Lomas::noun': 512, 'id:Funding::noun': 513, 'id:II::noun': 514, 'id:J.C.::noun': 515, 'id:Penney::noun': 516, 'id:Diesel::noun': 517, 'id:Kiki::noun': 518, 'id:Co::noun': 519, 'id:Japan::noun': 520, 'id:Chugoku::noun': 521, 'id:Electric::noun': 522, 'id:Power::noun': 523, 'id:Fees::noun': 524, 'id:7\\\\/8::num': 525, 'id:Okobank::noun': 526, 'id:Finland::noun': 527, 'init_tag:x': 528, 'id:First::x': 529, 'prev_tag:x::.': 530, 'id:they::pron': 531, 'id:safe::adj': 532, 'id:Second::x': 533, 'id:liquid::adj': 534, 'id:Third::x': 535, 'id:offer::verb': 536, 'id:high::adj': 537, 'id:All::det': 538, 'id:concerns::noun': 539, 'id:Toronto::noun': 540, 'id:Rockefeller::noun': 541, 'id:investment::noun': 542, 'id:its::pron': 543, 'id:largest::adj': 544, 'id:`::.': 545, 'id:Frequent::adj': 546, 'id:Drinker::noun': 547, \"id:'::.\": 548, 'id:Offer::noun': 549, 'id:Stirs::verb': 550, 'id:Up::prt': 551, 'id:Spirited::adj': 552, 'prev_tag:prt::adj': 553, 'id:Debate::noun': 554, 'id:Chivas::noun': 555, 'id:Class::noun': 556, 'id:first::adj': 557, 'id:such::adj': 558, 'id:promotion::noun': 559, 'id:Goya::noun': 560, 'id:Concocts::verb': 561, 'id:Milk::noun': 562, 'id:Hispanic::adj': 563, 'id:Tastes::noun': 564, 'id:Jewelry::noun': 565, 'id:Makers::noun': 566, 'id:Copy::verb': 567, 'id:Cosmetics::noun': 568, 'id:Sales::noun': 569, 'id:Ploys::noun': 570, 'id:merchandise::noun': 571, 'id:well::x': 572, 'prev_tag:.::x': 573, 'id:fake::adj': 574, 'id:limits::noun': 575, 'id:Her::pron': 576, 'id:idea::noun': 577, 'id:bring::verb': 578, 'id:in::prt': 579, 'id:live::adj': 580, 'id:zoo::noun': 581, 'id:animals::noun': 582, 'id:Odds::noun': 583, 'id:and::conj': 584, 'id:Ends::noun': 585, 'id:cholesterol::noun': 586, 'prev_tag:.::adp': 587, 'id:course::noun': 588, 'id:reset::verb': 589, 'id:opening::adj': 590, 'id:arguments::noun': 591, 'id:today::noun': 592, 'id:She::pron': 593, 'id:now::adv': 594, 'id:lives::verb': 595, 'id:with::adp': 596, 'id:relatives::noun': 597, 'id:Alabama::noun': 598, 'id:Then::adv': 599, 'id:would::verb': 600, 'id:move::verb': 601, 'id:movement::noun': 602, 'id:Europe::noun': 603, 'id:that::det': 604, 'prev_tag:adv::prt': 605, 'id:Their::pron': 606, 'id:legacy::noun': 607, 'id:on::prt': 608, 'id:Yet::adv': 609, 'id:these::det': 610, 'id:purchases::noun': 611, 'id:misleading::adj': 612, 'id:South::noun': 613, 'id:Korea::noun': 614, 'id:continue::verb': 615, 'id:profitable::adj': 616, 'id:Panda::noun': 617, 'id:Motors::noun': 618, 'prev_tag:num::adj': 619, 'id:NUCLEAR::noun': 620, 'id:REACTOR::noun': 621, 'id:FOR::adp': 622, 'id:ISRAEL::noun': 623, 'id:two::num': 624, 'prev_tag:det::num': 625, 'id:signing::verb': 626, 'id:trade::noun': 627, 'id:agreement::noun': 628, 'id:Ashurst::noun': 629, 'prev_tag:adj::prt': 630, 'id:Far::noun': 631, 'id:East::noun': 632, 'id:NEW::noun': 633, 'id:JERSEY::noun': 634, 'id:MERGER::noun': 635, 'id:DRUG::noun': 636, 'id:WARS::noun': 637, 'id:level::noun': 638, 'id:did::verb': 639, 'id:doors::noun': 640, 'id:town-watching::adj': 641, 'id:excursions::noun': 642, 'id:downright::adv': 643, 'id:comic::adj': 644, 'id:Other::adj': 645, 'id:trips::noun': 646, 'id:more::adv': 647, 'id:productive::adj': 648, 'id:Why::adv': 649, 'id:Accord::noun': 650, 'id:prices::noun': 651, 'id:start::verb': 652, 'prev_tag:adp::.': 653, 'id:12,345::num': 654, 'id:George::noun': 655, 'id:Bush::noun': 656, 'id:own::adj': 657, 'id:Peter::noun': 658, 'id:Gumbel::noun': 659, 'id:Moscow::noun': 660, 'id:There::det': 661, 'id:better::adj': 662, 'id:ways::noun': 663, 'id:promote::verb': 664, 'id:cause::noun': 665, 'id:Here::adv': 666, 'id:cases::noun': 667, 'id:dies::verb': 668, 'id:maybe::adv': 669, 'id:TV::noun': 670, 'id:lose::verb': 671, 'id:nothing::noun': 672, 'id:States::noun': 673, 'id:following::verb': 674, 'id:suit::noun': 675, 'id:California::noun': 676, 'id:enacted::verb': 677, 'id:rights::noun': 678, 'id:law::noun': 679, 'id:1988::num': 680, 'id:HUGO::noun': 681, 'id:FELLED::verb': 682, 'id:vast::adj': 683, 'id:timberlands::noun': 684, 'id:BRIEFS::noun': 685, 'id:Industry::noun': 686, 'id:executives::noun': 687, 'id:wishing::verb': 688, 'id:Achenbaum::noun': 689, 'id:well::adv': 690, 'id:Cotton::noun': 691, 'id:Campaign::noun': 692, 'id:Frank::noun': 693, 'id:Mingo::noun': 694, 'id:Dies::verb': 695, 'id:49::num': 696, 'id:Clients::noun': 697, 'id:include::verb': 698, 'id:Miller::noun': 699, 'id:Brewing::noun': 700, 'id:General::noun': 701, 'id:Ad::noun': 702, 'id:Notes::noun': 703, 'id:...::.': 704, 'id:EARNINGS::noun': 705, 'id:Excerpts::noun': 706, 'id:follow::verb': 707, 'id:already::adv': 708, 'id:industrialized::adj': 709, 'id:zero-sum::adj': 710, 'id:game::noun': 711, 'id:That::det': 712, 'id:possible::adj': 713, 'id:On::adp': 714, 'id:U.S.-Japan::adj': 715, 'id:relations::noun': 716, 'id:encouraged::adj': 717, 'id:understand::verb': 718, 'prev_tag:pron::.': 719, 'id:relationships::noun': 720, 'id:British::noun': 721, 'id:totally::adv': 722, 'id:different::adj': 723, 'id:lorded::verb': 724, 'id:over::adp': 725, 'id:me::pron': 726, 'id:some::det': 727, 'prev_tag:pron::det': 728, 'id:themselves::pron': 729, 'id:mean::verb': 730, 'id:normal::adj': 731, 'id:adult::noun': 732, 'id:relationship::noun': 733, 'id:trouble::noun': 734, 'id:over::prt': 735, 'id:ca::verb': 736, 'id:way::noun': 737, 'id:forward::adv': 738, 'id:Let::verb': 739, \"id:'s::pron\": 740, 'id:put::verb': 741, 'id:bluntly::adv': 742, 'id:First::noun': 743, 'id:Boston::noun': 744, 'id:sole::adj': 745, 'id:underwriter::noun': 746, 'id:trust::noun': 747, 'id:issue::verb': 748, 'id:certificates::noun': 749, 'id:service::verb': 750, 'id:receivables::noun': 751, 'id:Mexico::noun': 752, 'id:urgently::adv': 753, 'id:needs::verb': 754, 'id:Salinas::noun': 755, 'id:big::adj': 756, 'id:inflows::noun': 757, 'prev_tag:.::adv': 758, 'id:If::adp': 759, 'id:Opinion::noun': 760, 'id:mixed::adj': 761, 'id:three-month::adj': 762, 'id:prospects::noun': 763, 'id:Estimated::adj': 764, 'id:volume::noun': 765, 'id:3.5::num': 766, 'id:ounces::noun': 767, 'id:Edelson::noun': 768, 'id:comment::noun': 769, 'id:lot::noun': 770, 'id:needed::verb': 771, 'id:done::verb': 772, 'id:security::noun': 773, 'id:business::noun': 774, 'id:favorite::adj': 775, 'id:subject::noun': 776, 'id:love::verb': 777, 'id:Officials::noun': 778, 'id:Temple::noun': 779, 'id:declined::verb': 780, 'id:comment::verb': 781, 'id:FHA::noun': 782, 'id:program::noun': 783, 'id:hemorrhaging::verb': 784, 'id:bad::adj': 785, 'id:loans::noun': 786, 'id:Gillette::noun': 787, 'id:Africa::noun': 788, 'id:employs::verb': 789, 'id:about::adv': 790, 'id:250::num': 791, 'prev_tag:adv::num': 792, 'id:people::noun': 793, 'id:vote::noun': 794, 'id:approve::verb': 795, 'final_prev_tag:verb': 796, 'id:Trial::noun': 797, 'id:Terror::noun': 798, 'id:Arnold::noun': 799, 'id:J.::noun': 800, 'id:Zarett::noun': 801, 'id:Rodeo::noun': 802, 'id:applause::noun': 803, 'id:broncs::noun': 804, 'id:cheer::noun': 805, 'id:Marvin::noun': 806, 'id:Alisky::noun': 807, 'id:bottom-line::adj': 808, 'id:administration::noun': 809, 'id:lacks::verb': 810, 'id:comprehensive::adj': 811, 'id:health-care::noun': 812, 'id:policy::noun': 813, 'id:expected::verb': 814, 'id:report::verb': 815, 'id:summer::noun': 816, 'id:1991::num': 817, 'prev_tag:conj::num': 818, 'id:window::noun': 819, 'id:action::noun': 820, 'id:pressure::noun': 821, 'id:rise::verb': 822, 'id:costs::noun': 823, 'id:Limiting::verb': 824, 'id:care::noun': 825, 'id:wo::verb': 826, 'id:easy::adj': 827, 'id:or::conj': 828, 'prev_tag:adj::conj': 829, 'id:popular::adj': 830, 'prev_tag:conj::adj': 831, 'id:AFL-CIO::noun': 832, 'id:embraces::verb': 833, 'id:treatment::noun': 834, 'id:guidelines::noun': 835, 'id:steelmaker::noun': 836, 'id:16,000::num': 837, 'id:12.3::num': 838, 'id:shares::noun': 839, 'id:outstanding::adj': 840, 'id:Consolidation::noun': 841, 'id:overdue::adj': 842, 'id:such::det': 843, 'id:combination::noun': 844, 'id:presents::verb': 845, 'id:great::adj': 846, 'id:risks::noun': 847, 'id:days::noun': 848, 'id:respond::verb': 849, 'id:Nekoosa::noun': 850, 'id:incorporated::verb': 851, 'id:Maine::noun': 852, 'id:International::noun': 853, 'id:Paper::noun': 854, 'id:Weyerhaeuser::noun': 855, 'id:Bond::noun': 856, 'id:edged::verb': 857, 'id:higher::adv': 858, 'id:what::pron': 859, 'id:happened::verb': 860, 'id:yesterday::noun': 861, 'id:market::noun': 862, 'id:activity::noun': 863, 'id:Stock::noun': 864, 'id:rallied::verb': 865, 'id:active::adj': 866, 'id:trading::noun': 867, 'id:dollar::noun': 868, 'id:against::adp': 869, 'id:most::adj': 870, 'id:foreign::adj': 871, 'id:currencies::noun': 872, 'id:Nasdaq::noun': 873, 'id:7.08::num': 874, 'id:445.23::num': 875, 'id:Intel::noun': 876, 'id:up::adv': 877, 'id:3\\\\/8::num': 878, 'id:33::num': 879, 'id:Bank::noun': 880, 'id:Index::noun': 881, 'id:0.17::num': 882, 'id:432.78::num': 883, 'id:Gen-Probe::noun': 884, 'id:another::det': 885, 'id:takeover::noun': 886, 'id:MCI::noun': 887, 'id:Communications::noun': 888, 'id:added::verb': 889, 'id:43::num': 890, 'id:value::noun': 891, 'id:transaction::noun': 892, 'id:Santa::noun': 893, 'id:Fe::noun': 894, 'id:worth::adp': 895, 'id:analysts::noun': 896, 'id:bullish::adj': 897, 'id:Business::noun': 898, 'id:Railroad::noun': 899, 'id:natural::adj': 900, 'id:resources::noun': 901, 'id:real::adj': 902, 'id:estate::noun': 903, 'id:Year::noun': 904, 'id:ended::verb': 905, 'id:Dec.::noun': 906, 'id:Revenue::noun': 907, 'id:3.14::num': 908, 'id:billion::num': 909, 'id:Third::adj': 910, 'id:quarter::noun': 911, 'id:Sept.::noun': 912, 'id:30::num': 913, 'id:Average::adj': 914, 'id:daily::adj': 915, 'id:344,354::num': 916, 'id:widely::adv': 917, 'id:that::adp': 918, 'id:Second-tier::adj': 919, 'id:companies::noun': 920, 'id:receiving::verb': 921, 'id:less::adj': 922, 'id:per::adp': 923, 'id:ton::noun': 924, 'id:Commercial::adj': 925, 'id:gene-splicing::noun': 926, 'id:born::verb': 927, 'id:Armstrong::noun': 928, 'id:1\\\\/8::num': 929, 'id:39::num': 930, 'id:ERC::noun': 931, 'id:12::num': 932, 'id:Ogden::noun': 933, 'id:1\\\\/4::num': 934, 'id:Volume::noun': 935, 'id:totaled::verb': 936, 'id:11,820,000::num': 937, 'id:simultaneous::adj': 938, 'id:announcement::noun': 939, 'id:made::verb': 940, 'id:Big::noun': 941, 'id:Board::noun': 942, 'id:officials::noun': 943, 'id:publicly::adv': 944, 'id:work::verb': 945, 'id:Each::det': 946, 'id:agenda::noun': 947, \"id:'ve::verb\": 948, 'id:dictation::noun': 949, 'id:wrecking::verb': 950, 'prev_tag:adp::verb': 951, 'id:them::pron': 952, 'id:exchange::noun': 953, 'id:take::verb': 954, 'id:pro-active::adj': 955, 'id:position::noun': 956, 'id:Craig::noun': 957, 'id:Torres::noun': 958, 'id:bond::noun': 959, 'id:higher::adj': 960, 'id:Health-insurance::noun': 961, 'id:soared::verb': 962, 'id:Markets::noun': 963, 'id:Stocks::noun': 964, 'id:176,100,000::num': 965, 'id:Corporate::adj': 966, 'id:bonds::noun': 967, 'id:unchanged::adj': 968, 'id:Treasury::noun': 969, 'id:Securities::noun': 970, 'id:light::adj': 971, 'id:Short-term::adj': 972, 'id:rates::noun': 973, 'id:Issues::noun': 974, 'id:Carmichael::noun': 975, 'id:demanded::verb': 976, 'id:stricter::adj': 977, 'id:convenants::noun': 978, 'id:Mortgage-Backed::adj': 979, 'id:Municipal::adj': 980, 'id:Foreign::adj': 981, 'id:Bonds::noun': 982, 'id:government::noun': 983, 'id:markets::noun': 984, 'id:quiet::adj': 985, 'id:Japanese::adj': 986, 'id:showed::verb': 987, 'id:little::adj': 988, 'id:GASB::noun': 989, 'id:rules::noun': 990, 'id:apply::verb': 991, 'id:units::noun': 992, 'id:valued::verb': 993, 'id:800::num': 994, 'id:Joseph::noun': 995, 'id:Granville::noun': 996, 'id:expects::verb': 997, 'id:Stovall::noun': 998, 'id:does::verb': 999, 'id:actual::adj': 1000, 'id:recession::noun': 1001, 'id:Mark::noun': 1002, 'id:T.::noun': 1003, 'id:Kuiper::noun': 1004, 'id:City::noun': 1005, 'id:N.J::noun': 1006, 'id:almost::adv': 1007, 'id:underground::adj': 1008, 'id:Several::adj': 1009, 'id:banks::noun': 1010, 'id:have::verb': 1011, 'id:similar::adj': 1012, 'id:applications::noun': 1013, 'id:pending::adj': 1014, 'id:results::noun': 1015, 'id:involving::verb': 1016, 'id:losses::noun': 1017, 'id:omitted::verb': 1018, 'id:retains::verb': 1019, 'id:her::pron': 1020, 'id:duties::noun': 1021, 'id:human-resources::noun': 1022, 'id:That::adp': 1023, 'prev_tag:adp::prt': 1024, 'prev_tag:prt::pron': 1025, 'id:challenge::noun': 1026, 'id:Mike::noun': 1027, 'id:as::adv': 1028, 'id:EMC::noun': 1029, 'id:manufactures::verb': 1030, 'id:data-storage::adj': 1031, 'id:systems::noun': 1032, 'id:mainframes::noun': 1033, 'id:minicomputers::noun': 1034, \"id:'ll::verb\": 1035, 'id:through::adp': 1036, 'id:Jaguar::noun': 1037, 'id:22::num': 1038, 'id:747::num': 1039, 'id:151.20::num': 1040, 'id:Friday::noun': 1041, 'id:Tokyu::noun': 1042, 'id:Department::noun': 1043, 'id:Store::noun': 1044, 'id:advanced::verb': 1045, 'id:260::num': 1046, 'id:2410::num': 1047, 'id:150::num': 1048, 'prev_tag:num::adp': 1049, 'id:2890::num': 1050, 'id:Construction::noun': 1051, 'id:170::num': 1052, 'id:1610::num': 1053, 'id:Investors::noun': 1054, 'id:welcomed::verb': 1055, 'id:move::noun': 1056, 'id:slightly::adv': 1057, 'id:trading::verb': 1058, 'id:Both::det': 1059, 'id:dated::verb': 1060, 'id:Oct.::noun': 1061, 'id:Interest::noun': 1062, 'id:8.07::num': 1063, 'id:Corporate::noun': 1064, 'id:Western::noun': 1065, 'id:Union::noun': 1066, 'id:securities::noun': 1067, 'id:lower::adj': 1068, 'id:Municipal::noun': 1069, 'id:Foreign::noun': 1070, 'id:Seasonal::noun': 1071, 'id:Stackup::noun': 1072, 'id:Edward::noun': 1073, 'id:Dempsey::noun': 1074, 'id:Joshua::noun': 1075, 'id:Adams::noun': 1076, 'id:Humility::noun': 1077, 'id:Helper::noun': 1078, 'id:Ivern::noun': 1079, 'id:Ball::noun': 1080, 'id:Shocked::verb': 1081, 'id:target::noun': 1082, 'id:Soviets::noun': 1083, 'id:main::adj': 1084, 'id:motive::noun': 1085, 'id:hard::adj': 1086, 'id:cash::noun': 1087, 'prev_tag:pron::pron': 1088, 'id:shown::verb': 1089, 'id:impressive::adj': 1090, 'id:scared::verb': 1091, 'id:brokers::noun': 1092, 'id:but::conj': 1093, 'prev_tag:.::conj': 1094, 'id:survived::verb': 1095, 'id:timing::noun': 1096, 'id:right::adj': 1097, 'id:Longer::adj': 1098, 'id:term::noun': 1099, 'id:impact::noun': 1100, 'id:unclear::adj': 1101, 'id:Part::noun': 1102, 'id:Series::noun': 1103, 'id:}::.': 1104, 'id:horrible::adj': 1105, 'id:machine::noun': 1106, 'id:actually::adv': 1107, 'id:Panelli::noun': 1108, 'id:plenty::noun': 1109, 'id:Electronic::adj': 1110, 'id:gimmicks::noun': 1111, 'id:key::adj': 1112, \"id:'re::verb\": 1113, 'id:bound::verb': 1114, 'id:exaggerate::verb': 1115, 'id:goal::noun': 1116, 'id:may::verb': 1117, 'id:prove::verb': 1118, 'id:optimistic::adj': 1119, 'id:relaxing::adj': 1120, 'id:there::adv': 1121, 'id:out::prt': 1122, 'prev_tag:conj::adp': 1123, 'prev_tag:adj::pron': 1124, 'id:show::verb': 1125, 'id:die-hard::adj': 1126, 'id:bodies::noun': 1127, \"id:somethin'::noun\": 1128, 'id:strange::adj': 1129, 'id:neighborhood::noun': 1130, 'id:Who::pron': 1131, 'id:ya::pron': 1132, 'id:gon::verb': 1133, 'id:na::prt': 1134, 'id:call::verb': 1135, 'id:Canadian::noun': 1136, 'id:wound::verb': 1137, 'id:writing::verb': 1138, 'id:check::noun': 1139, 'id:happens::verb': 1140, 'id:sometimes::adv': 1141, 'id:energetic::adj': 1142, 'id:attacks::noun': 1143, 'id:required::verb': 1144, 'init_tag:num': 1145, 'id:Two::num': 1146, 'id:previous::adj': 1147, 'id:exorcisms::noun': 1148, 'id:failed::verb': 1149, 'id:Suddenly::adv': 1150, 'id:woman::noun': 1151, 'id:begins::verb': 1152, 'id:swaying::verb': 1153, 'prev_tag:verb::conj': 1154, 'id:then::adv': 1155, 'id:writhing::verb': 1156, 'id:declines::verb': 1157, 'id:International::adj': 1158, 'id:copyright::noun': 1159, 'id:secured::verb': 1160, 'id:Made::verb': 1161, 'id:USA::noun': 1162, 'id:Reserved::verb': 1163, 'id:Reprinted::verb': 1164, 'id:permission::noun': 1165, 'id:BROKERAGE::noun': 1166, 'id:HIRING::noun': 1167, 'id:languishes::verb': 1168, 'id:amid::adp': 1169, 'id:turmoil::noun': 1170, 'id:survivors::noun': 1171, 'id:earn::verb': 1172, 'id:Any::det': 1173, 'id:hiring::verb': 1174, 'id:confined::verb': 1175, 'id:retail::adj': 1176, 'id:sales::noun': 1177, 'id:stay::verb': 1178, 'id:tuned::verb': 1179, 'id:CORPORATE::adj': 1180, 'id:DOWNSIZING::noun': 1181, 'id:digs::verb': 1182, 'id:deeper::adj': 1183, 'id:FIRST::adv': 1184, 'id:TEACH::verb': 1185, 'id:THYSELF::pron': 1186, 'id:MEA::noun': 1187, 'id:CULPA::noun': 1188, 'id:NO::adv': 1189, 'id:YOU::pron': 1190, 'id:WORK::verb': 1191, 'prev_tag:det::adv': 1192, 'id:study::verb': 1193, 'id:Slowing::adj': 1194, 'id:economies::noun': 1195, 'id:areas::noun': 1196, 'id:limit::verb': 1197, 'id:student::noun': 1198, 'id:choice::noun': 1199, 'id:THE::det': 1200, 'id:CHECKOFF::noun': 1201, 'id:Fiery::adj': 1202, 'id:ambition::noun': 1203, 'id:somebody::noun': 1204, 'id:telling::verb': 1205, 'id:us::pron': 1206, 'id:something::noun': 1207, 'id:winner::noun': 1208, 'id:highly::adv': 1209, 'id:uncertain::adj': 1210, 'id:Capital::noun': 1211, 'id:flight::noun': 1212, 'id:reported::verb': 1213, 'id:strong::adj': 1214, 'id:where::adv': 1215, 'id:we::pron': 1216, 'id:Hospital::noun': 1217, 'id:Regulation::noun': 1218, 'id:Sparks::verb': 1219, 'id:Kentucky::noun': 1220, 'id:Feud::noun': 1221, 'id:Debt-Burdened::adj': 1222, 'id:Doctors::noun': 1223, 'id:Seek::verb': 1224, 'id:Financial::adj': 1225, 'id:Security::noun': 1226, 'id:115::num': 1227, 'prev_tag:adp::adp': 1228, 'id:1981::num': 1229, 'id:Related::adj': 1230, 'id:Roommates::noun': 1231, 'id:Trim::verb': 1232, 'id:Bills::noun': 1233, 'id:saves::verb': 1234, 'id:money::noun': 1235, 'id:Knight-Ridder::noun': 1236, 'id:offer::noun': 1237, 'id:hopes::verb': 1238, 'id:enter::verb': 1239, 'id:U.S.::noun': 1240, 'id:Edisto::noun': 1241, 'id:currently::adv': 1242, 'id:general::adj': 1243, 'id:partner::noun': 1244, 'id:NRM::noun': 1245, 'id:swings::noun': 1246, 'id:continued::verb': 1247, 'id:killers::noun': 1248, 'id:fled::verb': 1249, 'id:How::adv': 1250, 'id:negative::noun': 1251, 'id:120-day::adj': 1252, 'id:exclusivity::noun': 1253, 'id:period::noun': 1254, 'id:expire::verb': 1255, 'id:earthquake::noun': 1256, 'id:walls::noun': 1257, 'id:shook::verb': 1258, 'id:;::.': 1259, 'id:building::noun': 1260, 'id:rocked::verb': 1261, 'id:NOW::adv': 1262, 'id:shaking::verb': 1263, 'id:whole::adj': 1264, 'id:time::noun': 1265, 'id:Ten::num': 1266, 'id:minutes::noun': 1267, 'id:later::adv': 1268, 'id:insurance::noun': 1269, 'id:adjusters::noun': 1270, 'id:think::verb': 1271, 'id:differently::adv': 1272, 'id:BROWN-FORMAN::noun': 1273, 'id:Corp::noun': 1274, 'id:Louisville::noun': 1275, 'id:Ky.::noun': 1276, 'id:Yale::noun': 1277, 'id:Jay::noun': 1278, 'id:Lubkin::noun': 1279, 'id:Owings::noun': 1280, 'id:Md::noun': 1281, 'id:far-reaching::adj': 1282, 'id:North::noun': 1283, 'id:American::noun': 1284, 'id:Physicians::noun': 1285, 'id:Insurance::noun': 1286, 'id:Risk::noun': 1287, 'id:Retention::noun': 1288, 'id:Group::noun': 1289, 'id:Bass::noun': 1290, 'id:Fort::noun': 1291, 'id:Worth::noun': 1292, 'id:Revco::noun': 1293, 'id:1.5::num': 1294, 'id:claims::noun': 1295, 'id:Recently::adv': 1296, 'id:buying::verb': 1297, 'id:copper::noun': 1298, 'id:elsewhere::adv': 1299, 'id:commodity::noun': 1300, 'id:GRAINS::noun': 1301, 'id:AND::conj': 1302, 'id:SOYBEANS::noun': 1303, 'id:COFFEE::noun': 1304, 'id:PRECIOUS::adj': 1305, 'id:METALS::noun': 1306, 'id:Northeast::noun': 1307, 'id:West::noun': 1308, 'id:regions::noun': 1309, 'id:interest::noun': 1310, 'id:instead::adv': 1311, 'id:decreased::verb': 1312, 'id:crept::verb': 1313, 'id:machines::noun': 1314, 'id:make::verb': 1315, 'id:charts::noun': 1316, 'id:presentations::noun': 1317, 'id:Others::noun': 1318, 'id:analyze::verb': 1319, 'id:data::noun': 1320, 'id:linked::verb': 1321, 'id:Various::adj': 1322, 'id:cultural::adj': 1323, 'id:economic::adj': 1324, 'id:forces::noun': 1325, 'id:suppressed::verb': 1326, 'id:demand::noun': 1327, 'id:changing::verb': 1328, 'id:Americans::noun': 1329, 'id:blame::verb': 1330, 'id:effort::noun': 1331, 'id:here::adv': 1332, 'id:Critics::noun': 1333, 'id:American::adj': 1334, 'id:charge::verb': 1335, 'id:too::adv': 1336, 'id:much::adj': 1337, 'id:redoubling::verb': 1338, 'id:efforts::noun': 1339, 'id:enormous::adj': 1340, 'id:opportunity::noun': 1341, 'id:Nausea::noun': 1342, 'id:vomiting::noun': 1343, 'id:common::adj': 1344, 'id:side::noun': 1345, 'id:effects::noun': 1346, 'id:Timing::noun': 1347, 'id:essence::noun': 1348, 'id:RU-486::noun': 1349, 'id:typically::adv': 1350, 'id:three-week::adj': 1351, 'id:Wrong::adj': 1352, 'id:counts::noun': 1353, 'id:Miss::noun': 1354, 'id:Fraser::noun': 1355, 'id:result::noun': 1356, 'id:mean::noun': 1357, 'id:program-bashing::adj': 1358, 'id:clearly::adv': 1359, 'id:charges::noun': 1360, 'id:brought::verb': 1361, 'id:Mazda::noun': 1362, 'id:Tracer::noun': 1363, 'id:Ford::noun': 1364, 'id:safety::noun': 1365, 'id:related::verb': 1366, 'id:Pension::noun': 1367, 'id:Benefit::noun': 1368, 'id:Guaranty::noun': 1369, 'id:vs.::adp': 1370, 'id:LTV::noun': 1371, 'id:commercial::noun': 1372, 'id:absolutely::adv': 1373, 'id:silent::adj': 1374, 'id:Call::verb': 1375, 'id:disaster::noun': 1376, 'id:marketing::noun': 1377, 'id:deterred::verb': 1378, 'id:plenty::adj': 1379, 'id:get::verb': 1380, 'id:out::adp': 1381, 'id:Nissan::noun': 1382, 'id:created::verb': 1383, 'id:quake::noun': 1384, 'id:ad::noun': 1385, 'id:weekend::noun': 1386, 'id:consider::verb': 1387, 'id:ambulance::noun': 1388, 'id:chasing::noun': 1389, 'id:Barry::noun': 1390, 'id:felt::verb': 1391, 'id:very::adv': 1392, 'id:committed::verb': 1393, 'id:NEW::adj': 1394, 'id:ACCOUNT::noun': 1395, 'id:GUIDE::noun': 1396, 'id:NO::det': 1397, 'id:ALCOHOL::noun': 1398, 'id:RADIO::noun': 1399, 'id:Government::noun': 1400, 'id:Contractors::noun': 1401, 'id:Dynamics::noun': 1402, 'id:Trevino::noun': 1403, 'id:Court::noun': 1404, 'id:Brief::noun': 1405, 'id:court::noun': 1406, 'id:Lavery::noun': 1407, 'id:Large::adj': 1408, 'id:pockets::noun': 1409, 'id:poverty::noun': 1410, 'id:exist::verb': 1411, 'id:Now::adv': 1412, 'id:go::verb': 1413, 'id:further::adv': 1414, 'id:PRIME::noun': 1415, 'id:minimum::noun': 1416, 'id:8.70::num': 1417, 'id:Oh::x': 1418, 'id:terrible::adj': 1419, 'id:Ortega::noun': 1420, 'id:a::x': 1421, 'id:-::.': 1422, 'id:Discounted::verb': 1423, 'id:c::x': 1424, 'id:Yields::noun': 1425, 'id:adjusted::verb': 1426, 'id:constant::adj': 1427, 'id:maturity::noun': 1428, 'id:ShowBiz::noun': 1429, 'id:Pizza::noun': 1430, 'id:Time::noun': 1431, 'id:Old::noun': 1432, 'id:Stone::noun': 1433, 'id:5\\\\/8::num': 1434, 'id:Dr.::noun': 1435, 'id:Dryja::noun': 1436, 'id:retinoblastoma::noun': 1437, 'id:discovery::noun': 1438, 'id:1986::num': 1439, 'id:seven::num': 1440, 'id:candidates::noun': 1441, 'id:Occasionally::adv': 1442, 'id:gross::adj': 1443, 'id:chromosome::noun': 1444, 'id:damage::noun': 1445, 'id:visible::adj': 1446, 'id:finding::noun': 1447, 'id:riveted::verb': 1448, 'id:medicine::noun': 1449, 'id:audacious::adj': 1450, 'id:claim::noun': 1451, 'id:report::noun': 1452, 'id:galvanized::verb': 1453, 'id:molecular::adj': 1454, 'id:biologists::noun': 1455, 'id:17::num': 1456, 'id:Still::adv': 1457, 'id:caution::noun': 1458, 'id:advisable::adj': 1459, 'id:Many::adj': 1460, 'id:question::verb': 1461, 'id:management::noun': 1462, 'id:credibility::noun': 1463, 'id:Prospective::adj': 1464, 'id:competition::noun': 1465, 'id:problem::noun': 1466, 'id:counts::verb': 1467, 'id:bottom::adj': 1468, 'id:line::noun': 1469, 'id:Peladeau::noun': 1470, 'id:stuck::verb': 1471, 'id:Forman::noun': 1472, 'id:London::noun': 1473, 'id:WHITMAN::noun': 1474, 'id:RANSOM::noun': 1475, 'id:recruits::verb': 1476, 'id:from::adp': 1477, 'id:disbanding::verb': 1478, 'id:firm::noun': 1479, 'id:SHORT::noun': 1480, 'id:SKIRTS::noun': 1481, 'id:welcome::adj': 1482, 'id:Judge::noun': 1483, 'id:Hancock::noun': 1484, 'id:return::verb': 1485, 'id:phone::noun': 1486, 'id:calls::noun': 1487, 'id:TransCanada::noun': 1488, 'id:Foothills::noun': 1489, 'id:application::noun': 1490, 'id:York::noun': 1491, 'id:Collateralized::noun': 1492, 'id:Beneficial::noun': 1493, 'id:Rochester::noun': 1494, 'id:Community::noun': 1495, 'id:Savings::noun': 1496, 'id:Australian::noun': 1497, 'id:Finance::noun': 1498, 'id:Authority::noun': 1499, 'id:agency::noun': 1500, 'id:Guaranteed::verb': 1501, 'id:Swedish::noun': 1502, 'id:Export::noun': 1503, 'id:Credit::noun': 1504, 'id:Sweden::noun': 1505, 'id:Mixte::noun': 1506, 'id:holds::verb': 1507, 'id:remaining::adj': 1508, 'id:50::num': 1509, 'prev_tag:adj::num': 1510, 'id:Green::noun': 1511, 'id:public::adj': 1512, 'id:earlier::adv': 1513, 'id:month::noun': 1514, 'id:Joanne::noun': 1515, 'id:Lipman::noun': 1516, 'id:Estimated::verb': 1517, 'id:moderate::adj': 1518, 'id:More::adv': 1519, 'id:1,000::num': 1520, 'id:Muscovites::noun': 1521, 'id:attended::verb': 1522, 'id:service::noun': 1523, 'id:threatened::verb': 1524, 'id:end::verb': 1525, 'id:19-month-old::adj': 1526, 'id:ceasefire::noun': 1527, 'id:four::num': 1528, 'id:demonstrators::noun': 1529, 'id:arrested::verb': 1530, 'id:laws::noun': 1531, 'id:effect::noun': 1532, 'id:Completion::noun': 1533, 'id:project::noun': 1534, 'id:mid-1992::noun': 1535, 'id:Drug::noun': 1536, 'id:lost::verb': 1537, 'id:liability::noun': 1538, 'id:case::noun': 1539, 'id:126,630,000::num': 1540, 'id:kind::noun': 1541, 'id:hundreds-of-billions-of-yen::adj': 1542, 'id:step::verb': 1543, 'id:in::adv': 1544, 'id:Greece::noun': 1545, 'id:Former::noun': 1546, 'id:Force::noun': 1547, 'id:Career::noun': 1548, 'id:Officer::noun': 1549, 'id:L.H.::noun': 1550, 'id:Blum::noun': 1551, 'id:Beaumont::noun': 1552, 'id:agree::verb': 1553, 'id:Lehman::noun': 1554, 'id:Carl::noun': 1555, 'id:Banerian::noun': 1556, 'id:Jr::noun': 1557, 'id:Birmingham::noun': 1558, 'id:Mich::noun': 1559, 'id:airline::noun': 1560, 'id:named::verb': 1561, 'id:Mickey::noun': 1562, 'id:Foret::noun': 1563, 'id:president::noun': 1564, 'id:succeeds::verb': 1565, 'id:Alvin::noun': 1566, 'id:A.::noun': 1567, 'id:McCall::noun': 1568, 'id:chairman::noun': 1569, 'id:Arabs::noun': 1570, 'id:merely::adv': 1571, 'id:oil::noun': 1572, 'prev_tag:conj::.': 1573, 'id:heart::noun': 1574, 'id:disease::noun': 1575, 'prev_tag:pron::prt': 1576, 'id:gouty::adj': 1577, 'id:joints::noun': 1578, 'id:catch::noun': 1579, 'id:Maybe::adv': 1580, 'id:plant::verb': 1581, 'id:castor-oil::noun': 1582, 'id:seeds::noun': 1583, 'id:wake::verb': 1584, 'id:nightmare::noun': 1585, 'id:cautious::adj': 1586, 'id:China-bound::adj': 1587, 'id:freight::noun': 1588, 'id:streams::noun': 1589, 'id:territory::noun': 1590, 'id:port::noun': 1591, 'id:interviews::noun': 1592, 'id:took::verb': 1593, 'id:place::noun': 1594, 'id:years::noun': 1595, 'id:ago::adp': 1596, 'id:One::num': 1597, 'id:concerns::verb': 1598, 'id:Last::adj': 1599, 'id:year::noun': 1600, 'id:45,000::num': 1601, 'id:Mellon::noun': 1602, 'id:unavailable::adj': 1603, 'id:stock-index::noun': 1604, 'id:funds::noun': 1605, 'id:huge::adj': 1606, 'id:exile::noun': 1607, 'id:Hollywood::noun': 1608, 'id:enough::adv': 1609, 'id:People::noun': 1610, 'id:like::adp': 1611, 'id:Pa::noun': 1612, 'id:As::adp': 1613, 'id:women::noun': 1614, 'id:pathetic::adj': 1615, 'id:Starting::verb': 1616, 'id:tomorrow::noun': 1617, 'id:stalking::verb': 1618, 'id:Surely::adv': 1619, 'id:question::noun': 1620, 'id:obvious::adj': 1621, 'id:identify::verb': 1622, 'id:bankers::noun': 1623, 'id:About::adp': 1624, 'id:518::num': 1625, 'id:debt::noun': 1626, 'id:affected::verb': 1627, 'id:envelope::noun': 1628, 'id:arrives::verb': 1629, 'id:mail::noun': 1630, 'id:victim::noun': 1631, 'id:Gramm-Rudman::noun': 1632, 'id:cuts::noun': 1633, 'prev_tag:det::.': 1634, 'id:Brooks::noun': 1635, 'id:Brothers::noun': 1636, 'id:remodeling::verb': 1637, 'id:stores::noun': 1638, 'id:due::adj': 1639, 'id:evening::noun': 1640, 'id:Goldman::noun': 1641, 'id:Sachs::noun': 1642, 'id:Soon::adv': 1643, 'id:hell::noun': 1644, 'id:broke::verb': 1645, 'id:loose::adv': 1646, 'id:know::verb': 1647, 'id:campaign::noun': 1648, 'id:promises::noun': 1649, 'id:land::verb': 1650, 'id:Russia::noun': 1651, 'id:so::adv': 1652, 'id:often::adv': 1653, 'id:Strieber::noun': 1654, 'id:knows::verb': 1655, 'id:aliens::noun': 1656, 'id:Investment::noun': 1657, 'id:generally::adv': 1658, 'id:So::adp': 1659, 'id:Lawson::noun': 1660, 'id:resign::verb': 1661, 'id:Y&R::noun': 1662, 'id:Klein::noun': 1663, 'id:Steps::verb': 1664, 'id:Down::adv': 1665, 'final_prev_tag:adv': 1666, 'id:Wells::noun': 1667, 'id:Rich::noun': 1668, 'id:Partner::noun': 1669, 'id:conversion::noun': 1670, 'id:9.58::num': 1671, 'prev_tag:num::det': 1672, 'id:Macy::noun': 1673, 'id:acquired::verb': 1674, 'id:three::num': 1675, 'id:businesses::noun': 1676, 'id:May::noun': 1677, 'id:Nestle::noun': 1678, 'id:S.A.::noun': 1679, 'id:Vevey::noun': 1680, 'id:Switzerland::noun': 1681, 'id:These::det': 1682, 'id:curious::adj': 1683, 'id:times::noun': 1684, 'id:South::adj': 1685, 'id:African::adj': 1686, 'id:politics::noun': 1687, 'id:utterances::noun': 1688, 'id:vague::adj': 1689, 'id:ball::noun': 1690, 'id:hit::verb': 1691, 'id:strike::noun': 1692, 'id:identified::verb': 1693, 'id:snags::noun': 1694, 'id:process::noun': 1695, 'id:released::verb': 1696, 'id:small::adj': 1697, 'id:Renoir::noun': 1698, 'id:wall::noun': 1699, 'id:bought::verb': 1700, 'id:willing::adj': 1701, 'id:shareholders::noun': 1702, 'id:want::verb': 1703, 'id:stand::verb': 1704, 'id:alone::adv': 1705, 'id:Hewlett-Packard::noun': 1706, 'id:Palo::noun': 1707, 'id:Alto::noun': 1708, 'id:Calif::noun': 1709, 'id:Analysts::noun': 1710, 'id:agreed::verb': 1711, 'id:Unisys::noun': 1712, 'id:getting::verb': 1713, 'id:clobbered::verb': 1714, 'id:softened::verb': 1715, 'id:talk::noun': 1716, 'id:commercial::adj': 1717, 'id:version::noun': 1718, 'id:Sometimes::adv': 1719, 'id:gray::adj': 1720, 'id:Shilling::noun': 1721, 'id:understands::verb': 1722, 'id:Straszheim::noun': 1723, 'id:automotive-emissions-testing::adj': 1724, 'id:week::noun': 1725, 'id:displayed::verb': 1726, 'id:unusual::adj': 1727, 'id:political::adj': 1728, 'id:immaturity::noun': 1729, 'id:Behind::adp': 1730, 'id:silly::adj': 1731, 'id:posturing::noun': 1732, 'id:lies::verb': 1733, 'id:dispute::noun': 1734, 'id:Mrs.::noun': 1735, 'id:Thatcher::noun': 1736, 'id:bind::noun': 1737, 'id:reason::noun': 1738, 'id:simple::adj': 1739, 'id:economists::noun': 1740, 'id:weakness::noun': 1741, 'id:figures::noun': 1742, 'id:seasonal::adj': 1743, 'id:variations::noun': 1744, 'id:subject::adj': 1745, 'id:approval::noun': 1746, 'id:CRA::noun': 1747, 'id:49%-owned::adj': 1748, 'id:RTZ::noun': 1749, 'id:Britain::noun': 1750, 'id:need::verb': 1751, 'id:elaborate::verb': 1752, 'id:Utilities::noun': 1753, 'id:niche::noun': 1754, 'id:Absolutely::adv': 1755, 'id:John::noun': 1756, 'id:Ventura::noun': 1757, 'id:Robert::noun': 1758, 'id:Borden::noun': 1759, 'id:Monica::noun': 1760, 'id:W.::noun': 1761, 'id:Brown::noun': 1762, 'id:Morton::noun': 1763, 'id:Warsaw::noun': 1764, 'id:Va::noun': 1765, 'id:Venice::noun': 1766, 'id:sunk::verb': 1767, 'id:inches::noun': 1768, 'id:century::noun': 1769, 'id:scripts::noun': 1770, 'id:diverge::verb': 1771, 'id:Warner::noun': 1772, 'id:tells::verb': 1773, 'id:You::pron': 1774, 'id:Sony::noun': 1775, 'id:both::det': 1776, 'id:deals::noun': 1777, 'id:Neither::det': 1778, 'id:any::det': 1779, 'id:sign::noun': 1780, 'id:retreating::verb': 1781, 'id:refund::noun': 1782, 'id:9::num': 1783, 'id:Sansui::noun': 1784, 'id:special::adj': 1785, 'id:borrowed::verb': 1786, 'id:McCaw::noun': 1787, 'id:bid::noun': 1788, 'id:clause::noun': 1789, 'id:BellSouth::noun': 1790, 'id:back-end::adj': 1791, 'id:protection::noun': 1792, 'id:flawed::verb': 1793, 'id:previously::adv': 1794, 'id:surprised::verb': 1795, 'id:gap::noun': 1796, 'id:eventually::adv': 1797, 'id:closes::verb': 1798, 'id:slowly::adv': 1799, 'id:Market::noun': 1800, 'id:Activity::noun': 1801, 'id:132.8::num': 1802, 'id:eased::verb': 1803, 'id:Kirschner::noun': 1804, 'id:Medical::noun': 1805, 'id:4::num': 1806, 'id:DAX::noun': 1807, 'id:19.69::num': 1808, 'id:points::noun': 1809, 'id:1462.93::num': 1810, 'id:Morgan::noun': 1811, 'id:Stanley::noun': 1812, 'id:Intl::noun': 1813, 'id:cited::verb': 1814, 'id:renewed::verb': 1815, 'id:U.S.backed::adj': 1816, 'id:rebels::noun': 1817, 'id:Police::noun': 1818, 'id:detained::verb': 1819, 'id:350::num': 1820, 'id:evidence::noun': 1821, 'id:Further::adj': 1822, 'id:consolidations::noun': 1823, 'id:industry::noun': 1824, 'id:see::verb': 1825, 'id:fewer::adj': 1826, 'id:Unilever::noun': 1827, 'id:experienced::verb': 1828, 'id:disappointment::noun': 1829, 'id:senators::noun': 1830, 'id:responded::verb': 1831, 'id:Moreover::adv': 1832, 'id:sides::noun': 1833, 'id:face::verb': 1834, 'id:critics::noun': 1835, 'id:powerful::adj': 1836, 'id:manage::verb': 1837, 'id:fight::verb': 1838, 'id:listed::verb': 1839, 'id:last::adj': 1840, 'id:thing::noun': 1841, 'id:she::pron': 1842, 'id:confusion::noun': 1843, 'id:costly::adj': 1844, 'id:further::adj': 1845, 'id:jitters::noun': 1846, 'id:shove::verb': 1847, 'id:weak::adj': 1848, 'id:economy::noun': 1849, 'id:unrealistic::adj': 1850, 'id:expectation::noun': 1851, 'id:retiring::verb': 1852, 'id:James::noun': 1853, 'id:Wilcock::noun': 1854, 'id:Base::noun': 1855, 'id:Data::noun': 1856, 'id:Bern::noun': 1857, 'id:Sharfman::noun': 1858, 'id:Curdling::noun': 1859, 'id:Confession::noun': 1860, 'id:Ralph::noun': 1861, 'id:Shaffer::noun': 1862, 'id:Tithing::noun': 1863, 'id:Obedience::noun': 1864, 'id:one-tenth::noun': 1865, 'id:Commandment::noun': 1866, 'id:Len::noun': 1867, 'id:Elliott::noun': 1868, 'id:Wives::noun': 1869, 'id:May::verb': 1870, 'id:Benefit::verb': 1871, 'id:When::adv': 1872, 'id:Men::noun': 1873, 'id:Do::verb': 1874, 'id:Chores::noun': 1875, 'id:decreases::verb': 1876, 'id:only::adv': 1877, 'id:Nursing::noun': 1878, 'id:Patients::noun': 1879, 'id:Apt::adj': 1880, 'id:Be::verb': 1881, 'id:Private::adj': 1882, 'id:Payers::noun': 1883, 'id:Reagan::noun': 1884, 'id:Era::noun': 1885, 'id:Young::noun': 1886, 'id:Hold::verb': 1887, 'id:Liberal::adj': 1888, 'id:Views::noun': 1889, 'id:Korotich::noun': 1890, 'id:called::verb': 1891, 'id:nervous::adj': 1892, 'id:Censorship::noun': 1893, 'id:Marxist::adj': 1894, 'id:invention::noun': 1895, 'id:czars::noun': 1896, 'id:civil::adj': 1897, 'id:libertarians::noun': 1898, 'id:point::noun': 1899, 'id:Alan::noun': 1900, 'id:Greenspan::noun': 1901, 'id:changed::verb': 1902, 'id:Those::det': 1903, 'id:expressed::verb': 1904, 'id:public::noun': 1905, 'id:understandable::adj': 1906, 'id:guarantee::noun': 1907, 'id:mistakes::noun': 1908, 'id:27::num': 1909, 'id:FEDERAL::noun': 1910, 'id:NATIONAL::noun': 1911, 'id:MORTGAGE::noun': 1912, 'id:ASSOCIATION::noun': 1913, 'id:Fannie::noun': 1914, 'id:Mae::noun': 1915, 'id:8.65::num': 1916, 'id:misstated::verb': 1917, 'id:edition::noun': 1918, 'id:Chief::adj': 1919, 'id:presidents::noun': 1920, 'id:come::verb': 1921, 'id:Wall::noun': 1922, 'id:Street::noun': 1923, 'id:understandably::adv': 1924, 'id:skeptical::adj': 1925, 'id:Carpenter::noun': 1926, 'id:denies::verb': 1927, 'id:speculation::noun': 1928, 'id:El::noun': 1929, 'id:Paso::noun': 1930, 'id:owns::verb': 1931, 'id:operates::verb': 1932, 'id:petroleum::noun': 1933, 'id:refinery::noun': 1934, 'id:Franklin::noun': 1935, 'id:closed-end::adj': 1936, 'id:Kellogg::noun': 1937, 'id:quit::verb': 1938, 'id:suddenly::adv': 1939, 'id:life::noun': 1940, 'id:style::noun': 1941, 'id:third-quarter::adj': 1942, 'id:earnings::noun': 1943, 'id:editions::noun': 1944, 'id:deficit::noun': 1945, 'id:466::num': 1946, 'id:lire::noun': 1947, 'id:rest::noun': 1948, 'id:Spanish::adj': 1949, 'id:exchanges::noun': 1950, 'id:intends::verb': 1951, 'id:add::verb': 1952, 'id:litigation::noun': 1953, 'id:staff::noun': 1954, 'id:attorney::noun': 1955, 'id:averaged::verb': 1956, 'id:16::num': 1957, 'id:PILING::verb': 1958, 'id:ON::prt': 1959, 'id:employee::noun': 1960, 'id:vendor::noun': 1961, 'id:involved::verb': 1962, 'id:prosecutors::noun': 1963, 'id:Horton::noun': 1964, 'id:oversaw::verb': 1965, 'id:Gulf::noun': 1966, 'id:governmental-affairs::noun': 1967, 'id:down::adp': 1968, 'id:Senator::noun': 1969, 'id:Byrd::noun': 1970, 'id:Appropriations::noun': 1971, 'id:Committee::noun': 1972, 'id:Tell::verb': 1973, 'id:spending::noun': 1974, 'id:restraint::noun': 1975, 'id:HUD::noun': 1976, 'id:scandals::noun': 1977, 'id:non-competitive::adj': 1978, 'id:tenders::noun': 1979, 'id:accepted::verb': 1980, 'id:export::noun': 1981, 'id:2,057,750,000::num': 1982, 'id:675,400,000::num': 1983, 'id:1,048,500,000::num': 1984, 'id:588,350,000::num': 1985, 'id:capital::noun': 1986, 'id:booming::verb': 1987, 'id:going::verb': 1988, 'id:mega-problems::noun': 1989, 'id:second::adj': 1990, 'id:factor::noun': 1991, 'id:spurring::verb': 1992, 'id:mega-issues::noun': 1993, 'id:Disclosures::noun': 1994, 'id:poor::adj': 1995, 'id:India::noun': 1996, 'id:T.T.::noun': 1997, 'id:Ram::noun': 1998, 'id:Mohan::noun': 1999, 'id:pending::verb': 2000, 'id:meetings::noun': 2001, 'id:next::adp': 2002, 'id:Are::verb': 2003, 'id:There::adv': 2004, 'id:sort::noun': 2005, 'id:ABBIE::noun': 2006, 'id:OK::adj': 2007, 'id:Jack::noun': 2008, 'id:listening::verb': 2009, 'id:Yeah::x': 2010, 'id:bed::noun': 2011, 'id:feet::noun': 2012, 'id:floor::noun': 2013, 'id:listens::verb': 2014, 'id:impassively::adv': 2015, 'id:worry::verb': 2016, 'id:Abbie::noun': 2017, 'id:back::prt': 2018, 'prev_tag:prt::conj': 2019, 'id:leaves::verb': 2020, 'id:frame::noun': 2021, 'id:empty::adj': 2022, 'id:Journalism::noun': 2023, 'id:television::noun': 2024, 'id:stars::noun': 2025, 'id:fad::noun': 2026, 'id:wave::noun': 2027, 'id:Entertainment::noun': 2028, 'id:shows::noun': 2029, 'id:tend::verb': 2030, 'id:cost::verb': 2031, 'id:twice::adv': 2032, 'id:re-enactments::noun': 2033, 'id:stink::verb': 2034, 'id:never::adv': 2035, 'id:on::adv': 2036, 'id:Never::adv': 2037, 'id:Thereafter::adv': 2038, 'id:renegotiated::verb': 2039, 'id:individuals::noun': 2040, 'id:charged::verb': 2041, 'id:indictment::noun': 2042, 'id:Wilfred::noun': 2043, 'id:Massachusetts::noun': 2044, 'id:schools::noun': 2045, 'id:returned::verb': 2046, 'id:Washington::noun': 2047, 'id:Saturday::noun': 2048, 'id:night::noun': 2049, 'id:Conway::noun': 2050, 'id:Looking::verb': 2051, 'id:ahead::adv': 2052, 'id:Precious::adj': 2053, 'id:Metals::noun': 2054, 'id:Grains::noun': 2055, 'id:Soybeans::noun': 2056, 'id:Third-quarter::adj': 2057, 'id:profits::noun': 2058, 'id:several::adj': 2059, 'id:nearly::adv': 2060, 'id:pessimistic::adj': 2061, 'id:Lawrence::noun': 2062, 'id:Ross::noun': 2063, 'id:PaineWebber::noun': 2064, 'id:avoid::verb': 2065, 'id:Camp::noun': 2066, 'id:778.6::num': 2067, 'id:things::noun': 2068, 'id:change::verb': 2069, 'id:Fundamental::adj': 2070, 'id:factors::noun': 2071, 'id:work::noun': 2072, 'id:RJR::noun': 2073, 'id:investment-grade::adj': 2074, 'id:pain::noun': 2075, 'id:being::verb': 2076, 'id:led::verb': 2077, 'id:Contel::noun': 2078, 'id:Meanwhile::adv': 2079, 'id:personal::adj': 2080, 'id:income::noun': 2081, 'id:0.3::num': 2082, 'id:170,330,000::num': 2083, 'id:Scientists::noun': 2084, 'id:Businessmen::noun': 2085, 'id:cue::noun': 2086, 'id:engineers::noun': 2087, 'id:liquor::noun': 2088, 'id:metric::adj': 2089, 'id:ago::adv': 2090, 'id:Whittle::noun': 2091, 'id:met::verb': 2092, 'id:resistance::noun': 2093, 'id:Advertisers::noun': 2094, 'id:showing::verb': 2095, 'id:15.6::num': 2096, 'id:six-month::adj': 2097, 'id:bills::noun': 2098, 'id:2::num': 2099, 'id:51-day::adj': 2100, 'id:Sons::noun': 2101, 'id:Octel::noun': 2102, 'id:purchase::noun': 2103, 'id:Closed::adj': 2104, 'id:End::noun': 2105, 'id:Funds::noun': 2106, 'id:Flexible::adj': 2107, 'id:Portfolio::noun': 2108, 'id:Specialized::adj': 2109, 'id:Equity::noun': 2110, 'id:Convertible::adj': 2111, 'id:Ex-dividend::noun': 2112, 'id:b::x': 2113, 'id:Thursday::noun': 2114, 'id:close::noun': 2115, 'id:Translated::verb': 2116, 'id:Commercial::noun': 2117, 'id:Rand::noun': 2118, 'id:e::x': 2119, 'id:Canadian::adj': 2120, 'id:dollars::noun': 2121, 'id:f::x': 2122, 'id:Wednesday::noun': 2123, 'id:z::x': 2124, 'id:Wham::x': 2125, 'id:Bam::x': 2126, 'id:depends::verb': 2127, 'id:Machines::noun': 2128, 'id:99::num': 2129, 'id:Milton::noun': 2130, 'id:Roy::noun': 2131, 'id:jumped::verb': 2132, 'id:18::num': 2133, 'id:Crane::noun': 2134, 'id:21::num': 2135, 'id:temperature::noun': 2136, 'id:unexplained::adj': 2137, 'id:Houston::noun': 2138, 'id:force::noun': 2139, 'id:totals::verb': 2140, 'id:230::num': 2141, 'id:Denton::noun': 2142, 'id:Harris::noun': 2143, 'id:Metro::noun': 2144, 'id:Leslie::noun': 2145, 'id:Falls::noun': 2146, 'id:Humphries::noun': 2147, 'id:Little::noun': 2148, 'id:Rock::noun': 2149, 'id:Ark::noun': 2150, 'id:save::verb': 2151, 'id:Eugene::noun': 2152, 'id:Clarke::noun': 2153, 'id:IV::noun': 2154, 'id:Hollandale::noun': 2155, 'id:Dee::noun': 2156, 'id:Ann::noun': 2157, 'id:Wilson::noun': 2158, 'id:Greenville::noun': 2159, 'id:SHORT-TERM::adj': 2160, 'id:MUNICIPALS::noun': 2161, 'id:Rates::noun': 2162, 'id:approach::verb': 2163, 'id:6.5::num': 2164, 'id:five-year::adj': 2165, 'id:municipals::noun': 2166, 'id:BOND::noun': 2167, 'id:FUNDS::noun': 2168, 'id:DEFERRED::adj': 2169, 'id:ANNUITIES::noun': 2170, 'id:current::adj': 2171, 'id:exceed::verb': 2172, 'id:MONEY::noun': 2173, 'id:MARKET::noun': 2174, 'id:mutual::adj': 2175, 'id:city::noun': 2176, 'id:agendas::noun': 2177, 'id:turn::verb': 2178, 'id:situation::noun': 2179, 'id:around::adv': 2180, 'id:Reform::noun': 2181, 'id:starts::verb': 2182, 'id:Pentagon::noun': 2183, 'id:Step::noun': 2184, 'id:cleans::verb': 2185, 'id:our::pron': 2186, 'id:reduces::verb': 2187, 'id:baseline::noun': 2188, 'id:229::num': 2189, 'id:169::num': 2190, 'id:strategic::adj': 2191, 'id:review::noun': 2192, 'id:fundamentally::adv': 2193, 'id:Spinney::noun': 2194, 'id:permanent::adj': 2195, 'id:official::noun': 2196, 'id:heavy::adj': 2197, 'id:Sandra::noun': 2198, 'id:Swift::noun': 2199, 'id:Parrino::noun': 2200, 'id:National::noun': 2201, 'id:Council::noun': 2202, 'id:Handicapped::noun': 2203, 'id:Giant::noun': 2204, 'id:interests::noun': 2205, 'id:cement::noun': 2206, 'id:making::noun': 2207, 'id:newsprint::noun': 2208, 'id:Tenneco::noun': 2209, 'id:Pricing::noun': 2210, 'id:terms::noun': 2211, 'id:Guarantee::noun': 2212, 'id:Lyonnais::noun': 2213, 'id:Tap::verb': 2214, 'id:#::.': 2215, 'id:paid::verb': 2216, 'id:annually::adv': 2217, 'id:7.65::num': 2218, 'id:Suisse::noun': 2219, 'id:Vincent::noun': 2220, 'id:Jolivet::noun': 2221, 'id:Kenmore::noun': 2222, 'id:Wash::noun': 2223, 'id:Prices::noun': 2224, 'id:marginally::adv': 2225, 'id:fuel::noun': 2226, 'id:electricity::noun': 2227, 'id:Brockville::noun': 2228, 'id:miles::noun': 2229, 'id:east::adv': 2230, 'id:Sam::noun': 2231, 'id:Ramirez::noun': 2232, 'id:men::noun': 2233, 'id:late::adj': 2234, 'id:Oil-tool::noun': 2235, 'id:edging::verb': 2236, 'id:planners::noun': 2237, 'id:plan::verb': 2238, 'id:catalyst::noun': 2239, 'id:OPEC::noun': 2240, 'id:ideal::adj': 2241, 'id:Five::num': 2242, 'id:interested::adj': 2243, 'id:Mitchell::noun': 2244, 'id:half-interest::noun': 2245, 'id:likes::verb': 2246, 'id:few::adj': 2247, 'id:spots::noun': 2248, 'id:opening::verb': 2249, 'id:Already::adv': 2250, 'id:boom::noun': 2251, 'id:Global::adj': 2252, 'id:offshore-rig::noun': 2253, 'id:use::noun': 2254, 'id:shows::verb': 2255, 'id:upward::adj': 2256, 'id:trend::noun': 2257, 'id:equipment::noun': 2258, 'id:Until::adp': 2259, 'id:sat::verb': 2260, 'id:idle::adj': 2261, 'id:Price::noun': 2262, 'id:4.50::num': 2263, 'id:trucks::noun': 2264, 'id:backhoe::noun': 2265, 'id:cheap::adv': 2266, 'id:word::noun': 2267, 'id:Eric::noun': 2268, 'id:C.::noun': 2269, 'id:Meltzer::noun': 2270, 'id:appointment::noun': 2271, 'id:expands::verb': 2272, 'id:Thefts::noun': 2273, 'id:Make::verb': 2274, 'id:Travel::noun': 2275, 'id:Agents::noun': 2276, 'id:Jittery::adj': 2277, 'final_prev_tag:adj': 2278, 'id:dangerous::adj': 2279, 'id:Texans::noun': 2280, 'id:Get::verb': 2281, 'id:Reasonable::adj': 2282, 'id:Car::noun': 2283, 'id:Rental::adj': 2284, 'id:Flight::noun': 2285, 'id:Attendants::noun': 2286, 'id:Lag::noun': 2287, 'id:Before::adp': 2288, 'id:Jets::noun': 2289, 'id:Even::adv': 2290, 'id:Land::verb': 2291, 'id:Sigurd::noun': 2292, 'id:Nielsen::noun': 2293, 'id:Richmond::noun': 2294, 'id:thrift::noun': 2295, 'id:announced::verb': 2296, 'id:plan::noun': 2297, 'id:Aug.::noun': 2298, 'id:moves::noun': 2299, 'id:effective::adj': 2300, 'id:Unfortunately::adv': 2301, 'id:toxin::noun': 2302, 'id:poisonous::adj': 2303, 'id:succeed::verb': 2304, 'id:Hartwell::noun': 2305, 'id:Much::adj': 2306, 'id:family::noun': 2307, 'id:mystique::noun': 2308, 'id:long::adj': 2309, 'id:absence::noun': 2310, 'id:Indeed::adv': 2311, 'id:greatly::adv': 2312, 'id:concerned::adj': 2313, 'id:Rothschilds::noun': 2314, 'id:modest::adj': 2315, 'id:Paris::noun': 2316, 'id:publish::verb': 2317, 'id:figure::noun': 2318, 'id:disruptive::adj': 2319, 'id:investing::noun': 2320, 'id:futures::noun': 2321, 'id:support::noun': 2322, 'id:specify::verb': 2323, 'id:An::det': 2324, 'id:excellent::adj': 2325, 'id:environmental::adj': 2326, 'id:actor::noun': 2327, 'id:Ron::noun': 2328, 'id:Dyer::noun': 2329, 'id:Lawmakers::noun': 2330, 'id:houses::noun': 2331, 'id:support::verb': 2332, 'id:lied::verb': 2333, 'id:recruiting::noun': 2334, 'id:trip::noun': 2335, 'id:Football::noun': 2336, 'id:Junior::noun': 2337, 'id:football::noun': 2338, 'id:player::noun': 2339, 'id:become::verb': 2340, 'id:expendable::adj': 2341, 'id:Freshman::noun': 2342, 'id:basketball::noun': 2343, 'id:Sophomore::noun': 2344, 'id:ABUSE::noun': 2345, 'id:overwhelming::adj': 2346, 'id:class::noun': 2347, 'id:unspecified::adj': 2348, 'id:Graduate-student::noun': 2349, 'id:late-night::adj': 2350, 'id:shuttles::noun': 2351, 'id:biology::noun': 2352, 'id:labs::noun': 2353, 'id:24-hour::adj': 2354, 'id:library::noun': 2355, 'id:instance::noun': 2356, 'id:closing::noun': 2357, 'id:AGIP::noun': 2358, 'id:stake::noun': 2359, 'id:Libya::noun': 2360, 'id:steps::noun': 2361, 'id:advocated::verb': 2362, 'id:PROPERTY::noun': 2363, 'id:forms::noun': 2364, 'id:private::adj': 2365, 'id:property::noun': 2366, 'id:sanctioned::verb': 2367, 'id:FINANCES::noun': 2368, 'id:LABOR::noun': 2369, 'id:PRICES::noun': 2370, 'id:FOREIGN::adj': 2371, 'id:TRADE::noun': 2372, 'id:Flick::noun': 2373, 'id:Shock::noun': 2374, 'id:Gordon::noun': 2375, 'id:Candid::adj': 2376, 'id:Comment::noun': 2377, 'id:Drybred::noun': 2378, 'prev_tag:adv::conj': 2379, 'id:let::verb': 2380, 'id:loose::verb': 2381, 'id:Bobby::noun': 2382, 'id:Thomson::noun': 2383, 'id:legend::noun': 2384, 'id:talked::verb': 2385, 'id:home::noun': 2386, 'id:run::noun': 2387, 'id:aftermath::noun': 2388, 'id:Real::adj': 2389, 'id:heroes::noun': 2390, 'id:Rents::noun': 2391, 'id:along::adp': 2392, 'id:house::noun': 2393, 'id:censorship::noun': 2394, 'id:enforced::verb': 2395, 'id:terrorism::noun': 2396, 'id:assassination::noun': 2397, 'id:imposed::verb': 2398, 'id:opinion::noun': 2399, 'id:true::adj': 2400, 'id:tax::noun': 2401, 'id:revenues::noun': 2402, 'id:lagging::adj': 2403, 'id:feel-good::adj': 2404, 'id:candidacy::noun': 2405, 'id:withdrew::verb': 2406, 'id:remark::noun': 2407, 'id:porch::noun': 2408, 'id:ripped::verb': 2409, 'id:away::adv': 2410, 'id:flinch::verb': 2411, 'id:count::verb': 2412, 'id:everything::noun': 2413, 'id:repairs::noun': 2414, 'id:skills::noun': 2415, 'id:alien::adj': 2416, 'id:Toni::noun': 2417, 'id:Johnson::noun': 2418, 'id:perils::noun': 2419, 'id:owe::verb': 2420, 'id:contractor::noun': 2421, 'id:ground::noun': 2422, 'id:shakes::verb': 2423, 'id:underneath::adp': 2424, 'id:herself::pron': 2425, 'id:assumption::noun': 2426, 'id:FCC::noun': 2427, 'id:specific::adj': 2428, 'id:actions::noun': 2429, 'id:regarding::verb': 2430, 'id:AT&T::noun': 2431, 'id:applauded::verb': 2432, 'id:highest::adj': 2433, 'id:3::num': 2434, 'id:rare::adj': 2435, 'id:Democratic::adj': 2436, 'id:hawk::noun': 2437, 'id:allowed::verb': 2438, 'id:country::noun': 2439, 'id:credible::adj': 2440, 'id:ideas::noun': 2441, 'id:Boren::noun': 2442, 'id:defends::verb': 2443, 'id:congressional::adj': 2444, 'id:oversight::noun': 2445, 'id:consensus::noun': 2446, 'id:containment::noun': 2447, 'id:successful::adj': 2448, 'id:Because::adp': 2449, 'id:bipartisan::adj': 2450, 'id:agrees::verb': 2451, 'id:spies::verb': 2452, 'id:silver::adj': 2453, 'id:lining::noun': 2454, 'id:Ronald::noun': 2455, 'id:Edwin::noun': 2456, 'id:Parsons::noun': 2457, 'id:Ballwin::noun': 2458, 'id:Mo::noun': 2459, 'id:Includes::verb': 2460, 'id:Chevrolet::noun': 2461, 'id:Prizm::noun': 2462, 'id:Toyota::noun': 2463, 'id:Corolla::noun': 2464, 'id:r::x': 2465, 'id:Revised::verb': 2466, 'id:outlook::noun': 2467, 'id:corporate::adj': 2468, 'id:fairly::adv': 2469, 'id:bleak::adj': 2470, 'id:am::verb': 2471, 'id:doing::verb': 2472, 'id:Jackson::noun': 2473, 'id:Hole::noun': 2474, 'id:deal::noun': 2475, 'id:Qintex::noun': 2476, 'id:Australia::noun': 2477, 'id:Ltd::noun': 2478, 'id:owes::verb': 2479, 'id:creditors::noun': 2480, 'id:around::adp': 2481, 'id:A$::.': 2482, 'id:1.2::num': 2483, 'id:Andy::noun': 2484, 'id:Zipser::noun': 2485, 'id:Dallas::noun': 2486, 'id:entire::adj': 2487, 'id:division::noun': 2488, 'id:850::num': 2489, 'id:workers::noun': 2490, 'id:happen::verb': 2491, 'id:Congress::noun': 2492, 'id:resort::noun': 2493, 'id:shift::noun': 2494, 'id:affect::verb': 2495, 'id:operations::noun': 2496, 'id:if::adp': 2497, 'id:system::noun': 2498, 'id:aggressively::adv': 2499, 'id:courting::verb': 2500, 'id:seasonally::adv': 2501, 'id:adjusted::adj': 2502, 'id:Cairo::noun': 2503, 'id:spirited::adj': 2504, 'id:squalor::noun': 2505, 'id:device::noun': 2506, 'id:obscures::verb': 2507, 'id:illuminates::verb': 2508, 'id:Veiling::verb': 2509, 'id:message::noun': 2510, 'id:helped::verb': 2511, 'id:endure::verb': 2512, 'id:Cars::noun': 2513, 'id:because::adv': 2514, 'id:overflowing::verb': 2515, 'id:sewers::noun': 2516, 'id:Phoenix::noun': 2517, 'id:Kemp::noun': 2518, 'id:abolish::verb': 2519, 'id:Conference::noun': 2520, 'id:committees::noun': 2521, 'id:breeding::verb': 2522, 'id:grounds::noun': 2523, 'id:mischief::noun': 2524, 'id:Members::noun': 2525, 'id:outdid::verb': 2526, 'id:how::adv': 2527, 'id:through::adv': 2528, 'id:estimate::noun': 2529, 'id:find::verb': 2530, 'id:difficult::adj': 2531, 'id:found::verb': 2532, 'id:mixture::noun': 2533, 'id:ominous::adj': 2534, 'id:slow::verb': 2535, 'id:production::noun': 2536, 'id:Nov.::noun': 2537, 'id:Salvatori::noun': 2538, 'id:January::noun': 2539, 'id:sold::verb': 2540, 'id:brushes::noun': 2541, 'id:Morishita::noun': 2542, 'id:considers::verb': 2543, 'id:himself::pron': 2544, 'id:connoisseur::noun': 2545, 'id:art::noun': 2546, 'id:doubled::verb': 2547, 'id:stupid::adj': 2548, 'id:snaps::verb': 2549, 'id:leads::verb': 2550, 'id:opulent::adj': 2551, 'id:WHO::pron': 2552, \"id:'S::verb\": 2553, 'id:NEWS::noun': 2554, 'id:Filipino::noun': 2555, 'id:resentment::noun': 2556, 'id:opponents::noun': 2557, 'id:non-Tagalog::adj': 2558, 'id:simmering::verb': 2559, 'id:advertising::noun': 2560, 'id:revenue::noun': 2561, 'id:inadequate::adj': 2562, 'id:Sound::adj': 2563, 'id:stages::noun': 2564, 'id:echo::verb': 2565, 'id:Acting::noun': 2566, 'id:falls::verb': 2567, 'id:flat::adj': 2568, 'id:Nutritional::noun': 2569, 'id:Bostic::noun': 2570, 'id:posted::verb': 2571, 'id:255::num': 2572, 'id:Dick::noun': 2573, 'id:Darman::noun': 2574, 'id:office::noun': 2575, 'id:nuisance::adj': 2576, 'id:mergers::noun': 2577, 'id:Line-item::adj': 2578, 'id:veto::noun': 2579, 'id:Paribas::noun': 2580, 'id:Allianz::noun': 2581, 'id:lead::adj': 2582, 'id:French::adj': 2583, 'id:Glenn::noun': 2584, 'id:Hall::noun': 2585, 'id:DSP::noun': 2586, 'id:electronic::adj': 2587, 'id:instrumentation::noun': 2588, 'id:acquisition::noun': 2589, 'id:buy::verb': 2590, 'id:stops::verb': 2591, 'id:looks::verb': 2592, 'id:tough::adj': 2593, 'id:Marcus::noun': 2594, 'id:Brauchli::noun': 2595, 'id:Compiled::verb': 2596, 'id:Mathewson::noun': 2597, 'id:Vatican::noun': 2598, 'id:red::noun': 2599, 'id:countries::noun': 2600, 'id:registered::verb': 2601, 'id:below::adp': 2602, 'id:attendance::noun': 2603, 'id:Long-term::adj': 2604, 'id:barely::adv': 2605, 'id:benchmark::noun': 2606, 'id:30-year::adj': 2607, 'id:fractionally::adv': 2608, 'id:Yield::noun': 2609, 'id:7.88::num': 2610, 'id:modestly::adv': 2611, 'id:Republicans::noun': 2612, 'id:relenting::verb': 2613, 'id:countered::verb': 2614, 'id:long-range::adj': 2615, 'id:estimates::noun': 2616, 'id:unreliable::adj': 2617, 'id:WASHINGTON::noun': 2618, 'id:Kilpatrick::noun': 2619, 'id:Deaver::noun': 2620, 'id:reopened::verb': 2621, 'id:public-relations::noun': 2622, 'id:scandal-tripped::adj': 2623, 'id:enjoyed::verb': 2624, 'id:soft::adj': 2625, 'id:landings::noun': 2626, 'id:many::adj': 2627, 'id:Among::adp': 2628, 'id:Pretend::verb': 2629, 'id:Nothing::noun': 2630, 'id:Happened::verb': 2631, 'id:mention::verb': 2632, 'id:generous::adj': 2633, 'id:federal::adj': 2634, 'id:pension::noun': 2635, 'id:Finding::noun': 2636, 'id:God::noun': 2637, 'id:always::adv': 2638, 'id:smoothly::adv': 2639, 'id:Fedders::noun': 2640, 'id:philosophical::adj': 2641, 'id:travails::noun': 2642, 'id:sees::verb': 2643, 'id:psychoanalyst::noun': 2644, 'id:mornings::noun': 2645, 'id:universe::noun': 2646, 'id:Linger::verb': 2647, 'id:Dan::noun': 2648, 'id:Rather::noun': 2649, 'id:served::verb': 2650, 'id:emcee::noun': 2651, 'id:Helps::verb': 2652, 'id:Male::noun': 2653, 'id:Male::adj': 2654, 'id:scandal::noun': 2655, 'id:victims::noun': 2656, 'id:invariably::adv': 2657, 'id:fare::verb': 2658, 'id:better::adv': 2659, 'id:Star::noun': 2660, 'id:accounts::verb': 2661, 'id:difference::noun': 2662, 'id:Secord::noun': 2663, 'id:performance::noun': 2664, 'id:decidedly::adv': 2665, 'id:less::adv': 2666, 'id:inspiring::adj': 2667, 'id:Sex::noun': 2668, 'id:Involved::verb': 2669, 'id:Bets::noun': 2670, 'id:Off::adp': 2671, 'id:Become::verb': 2672, 'id:Lobbyist::noun': 2673, 'id:pseudo-lobbyists::noun': 2674, 'id:Misery::noun': 2675, 'id:Loves::verb': 2676, 'id:Company::noun': 2677, 'id:Michael::noun': 2678, 'id:Inventories::noun': 2679, 'id:provide::verb': 2680, 'id:setup::noun': 2681, 'id:segments::noun': 2682}\n"
     ]
    }
   ],
   "source": [
    "len(feature_mapper.feature_list)\n",
    "print(feature_mapper.feature_dict)"
   ]
  },
  {
   "cell_type": "code",
   "execution_count": 8,
   "metadata": {},
   "outputs": [
    {
     "data": {
      "text/plain": [
       "[[[0]], [[3], [5], [7], [9]], [[10]], [[1], [2], [4], [6], [8]]]"
      ]
     },
     "execution_count": 8,
     "metadata": {},
     "output_type": "execute_result"
    }
   ],
   "source": [
    "## Let's see the features for the first training example\n",
    "feature_mapper.feature_list[0]"
   ]
  },
  {
   "cell_type": "code",
   "execution_count": 9,
   "metadata": {},
   "outputs": [
    {
     "name": "stdout",
     "output_type": "stream",
     "text": [
      "\n",
      "Initial features: [[0]]\n",
      "\n",
      "Transition features: [[3], [5], [7], [9]]\n",
      "\n",
      "Final features: [[10]]\n",
      "\n",
      "Emission features: [[1], [2], [4], [6], [8]]\n"
     ]
    }
   ],
   "source": [
    "## The previous features can be classified into:\n",
    "\n",
    "print(\"\\nInitial features:\",     feature_mapper.feature_list[0][0])\n",
    "print(\"\\nTransition features:\",  feature_mapper.feature_list[0][1])\n",
    "print(\"\\nFinal features:\",       feature_mapper.feature_list[0][2])\n",
    "print(\"\\nEmission features:\",    feature_mapper.feature_list[0][3])"
   ]
  },
  {
   "cell_type": "markdown",
   "metadata": {},
   "source": [
    "#### An observation on the features for a given example\n",
    "\n",
    "All features for all the training examples in are saved in `train_seq` will be saved in ``feature_mapper.feature_list``.\n",
    "\n",
    "- If `feature_mapper.feature_list[m]` is our feature vector for training example `m`... why it's not a vector?\n",
    "\n",
    "    - Good point! In order to make the algorithm fast, the code is written using dicts, so if we access only a few positions from the dict and compute substractions it will be much faster than computing the substraction of two huge weight vectors. Notice that there are `len(feature_mapper.feature_dict)` features."
   ]
  },
  {
   "cell_type": "code",
   "execution_count": 10,
   "metadata": {
    "scrolled": true
   },
   "outputs": [
    {
     "data": {
      "text/plain": [
       "(1000, 1000)"
      ]
     },
     "execution_count": 10,
     "metadata": {},
     "output_type": "execute_result"
    }
   ],
   "source": [
    "len(train_seq), len(feature_mapper.feature_list)"
   ]
  },
  {
   "cell_type": "markdown",
   "metadata": {},
   "source": [
    "### Codification of the features\n",
    "\n",
    "\n",
    "Features are identifyed by **init_tag:**, **prev_tag:**,  **final_prev_tag:**, **id:**\n",
    "\n",
    "- **init_tag:** when they are Initial features\n",
    "    - Example: **``init_tag:noun``** is an initial feature that describes that the first word is a noun\n",
    "    \n",
    "    \n",
    "- **prev_tag:** when they are transition features\n",
    "    - Example: **``prev_tag:noun::noun``** is an transition feature that describes that the previous word was\n",
    "      a noun and the current word is a noun.\n",
    "    - Example: **``prev_tag:noun:.``** is an transition feature that describes that the previous word was\n",
    "      a noun and the current word is a `.` (this is usually foud as the last transition feature since most phrases will end up with a dot)\n",
    "      \n",
    "\n",
    "\n",
    "- **final_prev_tag:** when they are final features\n",
    "    - Example: **``final_prev_tag:.``** is a final feature stating that the last \"word\" in the sentence was a dot.\n",
    "\n",
    "\n",
    "- **id:** when they are emission features\n",
    "    - Example: **``id:plays::verb``** is an emission feature, describing that the current word is plays and the current hidden state is a verb.\n",
    "    - Example: **``id:Feb.::noun``** is an emission feature, describing that the current word is \"Feb.\" and the current hidden state is a noun.\n",
    "\n",
    "\n",
    "\n"
   ]
  },
  {
   "cell_type": "code",
   "execution_count": null,
   "metadata": {},
   "outputs": [],
   "source": [
    "inv_feature_dict = {word: pos for pos, word in feature_mapper.feature_dict.items()}"
   ]
  },
  {
   "cell_type": "code",
   "execution_count": null,
   "metadata": {
    "scrolled": true
   },
   "outputs": [],
   "source": [
    "feature_mapper.feature_list[0][0]"
   ]
  },
  {
   "cell_type": "code",
   "execution_count": null,
   "metadata": {},
   "outputs": [],
   "source": [
    "[inv_feature_dict[x[0]] for x in feature_mapper.feature_list[0][0]]"
   ]
  },
  {
   "cell_type": "code",
   "execution_count": null,
   "metadata": {},
   "outputs": [],
   "source": [
    "[inv_feature_dict[x[0]] for x in feature_mapper.feature_list[0][1]]"
   ]
  },
  {
   "cell_type": "code",
   "execution_count": null,
   "metadata": {},
   "outputs": [],
   "source": [
    "[inv_feature_dict[x[0]] for x in feature_mapper.feature_list[0][2]]"
   ]
  },
  {
   "cell_type": "code",
   "execution_count": null,
   "metadata": {},
   "outputs": [],
   "source": [
    "len(train_seq.x_dict)"
   ]
  },
  {
   "cell_type": "markdown",
   "metadata": {},
   "source": [
    "### Train a crf"
   ]
  },
  {
   "cell_type": "code",
   "execution_count": null,
   "metadata": {
    "scrolled": true
   },
   "outputs": [],
   "source": [
    "## Train crf\n",
    "crf_online = crfo.CRFOnline(corpus.word_dict, corpus.tag_dict, feature_mapper)\n",
    "crf_online.num_epochs = 20\n",
    "crf_online.train_supervised(train_seq)"
   ]
  },
  {
   "cell_type": "code",
   "execution_count": null,
   "metadata": {},
   "outputs": [],
   "source": [
    "## You will receive feedback when each epoch is finished,\n",
    "## note that running the 20 epochs might take a while. After training is done,\n",
    "## evaluate the learned model on the training, development and test sets.\n",
    "\n",
    "pred_train = crf_online.viterbi_decode_corpus(train_seq)\n",
    "pred_dev = crf_online.viterbi_decode_corpus(dev_seq)\n",
    "pred_test = crf_online.viterbi_decode_corpus(test_seq)\n",
    "\n",
    "eval_train = crf_online.evaluate_corpus(train_seq, pred_train)\n",
    "eval_dev = crf_online.evaluate_corpus(dev_seq, pred_dev)\n",
    "eval_test = crf_online.evaluate_corpus(test_seq, pred_test)"
   ]
  },
  {
   "cell_type": "code",
   "execution_count": null,
   "metadata": {},
   "outputs": [],
   "source": [
    "print(\"CRF - ID Features Accuracy Train: %.3f Dev: %.3f Test: %.3f\" \\\n",
    "       %(eval_train,eval_dev, eval_test))   "
   ]
  },
  {
   "cell_type": "code",
   "execution_count": null,
   "metadata": {},
   "outputs": [],
   "source": []
  }
 ],
 "metadata": {
  "kernelspec": {
   "display_name": "Python 3",
   "language": "python",
   "name": "python3"
  },
  "language_info": {
   "codemirror_mode": {
    "name": "ipython",
    "version": 3
   },
   "file_extension": ".py",
   "mimetype": "text/x-python",
   "name": "python",
   "nbconvert_exporter": "python",
   "pygments_lexer": "ipython3",
   "version": "3.6.4"
  }
 },
 "nbformat": 4,
 "nbformat_minor": 2
}
